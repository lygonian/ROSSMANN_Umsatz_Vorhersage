{
 "cells": [
  {
   "cell_type": "markdown",
   "metadata": {},
   "source": [
    "**Table of contents**<a id='toc0_'></a>    \n",
    "1. [Datenpreprozessierung](#toc1_)    \n",
    "1.1. [Dataframes laden und auf wöchentlich aggregieren](#toc1_1_)    \n",
    "1.2. [Transformieren](#toc1_2_)    \n",
    "1.3. [Splitten](#toc1_3_)    \n",
    "2. [Feature Selection](#toc2_)    \n",
    "2.1. [per Korrelation](#toc2_1_)    \n",
    "2.2. [per RandomForestRegressor](#toc2_2_)    \n",
    "2.3. [Recursive Feature Elimination (RFE)](#toc2_3_)    \n",
    "2.4. [Final Features](#toc2_4_)    \n",
    "3. [Auswahl des Machine Learning Moduls](#toc3_)    \n",
    "3.1. [Average Modell](#toc3_1_)    \n",
    "3.2. [Linear Regression](#toc3_2_)    \n",
    "3.3. [Linear Regression Regularized Model - LASSO](#toc3_3_)    \n",
    "3.4. [Linear Regression Regularized Model - Ridge](#toc3_4_)    \n",
    "3.5. [k nearest neighbor (KNN)](#toc3_5_)    \n",
    "3.6. [Suport Vector Machines (SVM)](#toc3_6_)    \n",
    "3.7. [Random Forest Regressor](#toc3_7_)    \n",
    "3.8. [MLP Regressor (deep-Learning)](#toc3_8_)    \n",
    "4. [CrossValidation und HyperParameter Tuning](#toc4_)    \n",
    "4.1. [Cross Validation](#toc4_1_)    \n",
    "4.2. [Hyperparameter Tuning](#toc4_2_)    \n",
    "4.3. [Paramater auf Overfitting testen](#toc4_3_)    \n",
    "5. [ZukunftsDataframe erstellen](#toc5_)    \n",
    "5.1. [Datenskelett aufbauen (letzen 8 Wochen der Daten)](#toc5_1_)    \n",
    "5.2. [Datenskelett testen](#toc5_2_)    \n",
    "6. [Finales Modell und Zukunft](#toc6_)    \n",
    "6.1. [Datenskelett aufbauen (zukunft)](#toc6_1_)    \n",
    "6.2. [Zukunft vorhersagen](#toc6_2_)    \n",
    "\n",
    "<!-- vscode-jupyter-toc-config\n",
    "\tnumbering=true\n",
    "\tanchor=true\n",
    "\tflat=true\n",
    "\tminLevel=1\n",
    "\tmaxLevel=4\n",
    "\t/vscode-jupyter-toc-config -->\n",
    "<!-- THIS CELL WILL BE REPLACED ON TOC UPDATE. DO NOT WRITE YOUR TEXT IN THIS CELL -->"
   ]
  },
  {
   "cell_type": "code",
   "execution_count": 1,
   "metadata": {},
   "outputs": [],
   "source": [
    "import numpy as np\n",
    "import pandas as pd\n",
    "from datetime import datetime, timedelta\n",
    "import time\n",
    "\n",
    "#plotten\n",
    "import matplotlib.pyplot as plt\n",
    "import seaborn as sns\n",
    "\n",
    "#Plotly\n",
    "import plotly.express as px\n",
    "import plotly.graph_objects as go\n",
    "from plotly.subplots import make_subplots\n",
    "%matplotlib inline\n",
    "import kaleido\n",
    "\n",
    "from IPython.display import display, HTML\n",
    "from functools import reduce\n",
    "import joblib\n",
    "import pyarrow as pa\n",
    "from scipy.stats import anderson, randint, ttest_ind\n",
    "pd.set_option('display.max_columns', None)\n",
    "\n",
    "# machine Learning\n",
    "from sklearn.impute import KNNImputer\n",
    "from sklearn.ensemble import RandomForestRegressor\n",
    "from sklearn.neural_network import MLPRegressor\n",
    "from sklearn.neighbors import KNeighborsRegressor\n",
    "from sklearn.linear_model import Ridge, Lasso, LinearRegression\n",
    "from sklearn.feature_selection import SelectPercentile, f_regression, RFE, SelectFromModel\n",
    "from sklearn.model_selection import TimeSeriesSplit, cross_val_score, KFold, train_test_split, RandomizedSearchCV\n",
    "from sklearn.metrics import mean_absolute_error, r2_score, mean_squared_error, make_scorer\n",
    "from sklearn.preprocessing import PowerTransformer, StandardScaler, MinMaxScaler, RobustScaler, LabelEncoder, OneHotEncoder\n",
    "from sklearn.experimental import enable_iterative_imputer"
   ]
  },
  {
   "cell_type": "markdown",
   "metadata": {},
   "source": [
    "# 1. <a id='toc1_'></a>Datenpreprozessierung [&#9650;](#toc0_)"
   ]
  },
  {
   "cell_type": "markdown",
   "metadata": {},
   "source": [
    "## 1.1. <a id='toc1_1_'></a>Dataframes laden und auf wöchentlich aggregieren [&#9650;](#toc0_)"
   ]
  },
  {
   "cell_type": "code",
   "execution_count": null,
   "metadata": {},
   "outputs": [],
   "source": [
    "# Dataframes laden\n",
    "df_daily = pd.read_parquet(\"..\\\\Save_files\\\\df_daily.parquet\", engine='pyarrow')\n",
    "df_agg = pd.read_parquet(\"..\\\\Save_files\\\\df_agg.parquet\", engine='pyarrow')\n"
   ]
  },
  {
   "cell_type": "markdown",
   "metadata": {},
   "source": [
    "Zunächst die Daten auf wöchentliche Ebene aggregieren um Datenmenge zu reduzieren"
   ]
  },
  {
   "cell_type": "code",
   "execution_count": null,
   "metadata": {},
   "outputs": [],
   "source": [
    "df_weekly = df_daily.copy()\n",
    "df_weekly.set_index(\"Datum\", inplace=True)\n",
    "# Listen mit Spaltennamen für Aggregationsfunktion erstellen \n",
    "to_sum = ['Umsatz', 'Kundenzahl', 'Geöffnet',\n",
    "          'Promo', 'ist_Promo2', 'Schulferien', \n",
    "          'Ostern', 'Weihnachten', 'öffentl_Feiertag',\n",
    "          'regulärer_Tag', \"Sonntag\"]\n",
    "\n",
    "# zweite Liste für Aggregationsfunktion\n",
    "to_last = ['Geschäftstyp', 'Sortiment', \"Bundesland\", \"Gruppe\",\n",
    "           'Wettbew_Distanz', 'Wettbew_seit_Monaten',\n",
    "           'Wettbew_offen_seit_Monat', 'Wettbew_offen_seit_Jahr',\n",
    "           'Promo2', 'Promo2_Intervall', 'Promo2_seit_Wochen', \n",
    "           'Promo2_seit_Woche','Promo2_seit_Jahr',\n",
    "           'Jahr', 'Quartal', 'Monat', 'Kalenderwoche']\n",
    "\n",
    "# Aggregationsfunktionen für die Spalten\n",
    "agg_funcs = {col: 'sum' for col in to_sum}\n",
    "agg_funcs.update({col: 'last' for col in to_last})\n",
    "\n",
    "df_weekly = df_weekly.groupby(\"Filiale\").resample(\"W\").agg(agg_funcs).reset_index()\n",
    "df_weekly.dropna(inplace=True)"
   ]
  },
  {
   "cell_type": "markdown",
   "metadata": {},
   "source": [
    "## 1.2. <a id='toc1_2_'></a>Transformieren [&#9650;](#toc0_)"
   ]
  },
  {
   "cell_type": "code",
   "execution_count": null,
   "metadata": {},
   "outputs": [],
   "source": [
    "df = df_weekly.copy().reset_index(drop=True)\n",
    "\n",
    "# Zielvariable Umsatz logarithmieren\n",
    "df.Umsatz = np.log(df.Umsatz)\n",
    "\n",
    "# kategorische Variable Gruppe in numerisch umwandeln\n",
    "df['Gruppe'] = df['Gruppe'].cat.codes\n",
    "\n",
    "# OneHot Kodierung für ['Geschäftstyp', 'Sortiment', 'Bundesland']\n",
    "to_encode = ['Geschäftstyp', 'Sortiment', 'Bundesland']\n",
    "ohe = OneHotEncoder(sparse_output=False)\n",
    "ohe.fit(df[to_encode].astype(\"str\"))\n",
    "# Für df\n",
    "enc_columns = ohe.transform(df[to_encode].astype(\"str\"))\n",
    "# Dataframe with encoded columns\n",
    "encoded_df = pd.DataFrame(enc_columns,\n",
    "                        columns=ohe.get_feature_names_out(to_encode))\n",
    "# adding encoded columns to train\n",
    "df = pd.concat([df, encoded_df], axis=1).drop(columns=to_encode, axis=1)\n",
    "\n",
    "# temporale Angaben zyklisieren\n",
    "to_cyclic = [\"Quartal\", \"Monat\", \"Kalenderwoche\", \"Jahr\"]\n",
    "# Quartal\n",
    "df['Quartal_sin'] = df['Quartal'].apply(lambda x: np.sin(x*(2*np.pi/4)))\n",
    "df['Quartal_cos'] = df['Quartal'].apply(lambda x: np.cos(x*(2*np.pi/4)))\n",
    "# Monat\n",
    "df['Monat_sin'] = df['Monat'].apply(lambda x: np.sin(x*(2*np.pi/12)))\n",
    "df['Monat_cos'] = df['Monat'].apply(lambda x: np.cos(x*(2*np.pi/12)))\n",
    "# Kalenderwoche (W)\n",
    "df['Kalenderwoche_sin'] = df['Kalenderwoche'].apply(lambda x: np.sin(x*(2*np.pi/52)))\n",
    "df['Kalenderwoche_cos'] = df['Kalenderwoche'].apply(lambda x: np.cos(x*(2*np.pi/52)))\n",
    "# Jahr\n",
    "df['Jahr_sin'] = df['Jahr'].apply(lambda x: np.sin(x*(2*np.pi/365)))\n",
    "df['Jahr_cos'] = df['Jahr'].apply(lambda x: np.cos(x*(2*np.pi/365)))\n",
    "\n",
    "# zu löschen\n",
    "df.drop(columns=[\"Promo2_Intervall\", \"Kundenzahl\"], inplace=True)\n",
    "df.sort_values([\"Datum\", \"Filiale\"], inplace=True)"
   ]
  },
  {
   "cell_type": "markdown",
   "metadata": {},
   "source": [
    "## 1.3. <a id='toc1_3_'></a>Splitten [&#9650;](#toc0_)"
   ]
  },
  {
   "cell_type": "code",
   "execution_count": null,
   "metadata": {},
   "outputs": [
    {
     "name": "stdout",
     "output_type": "stream",
     "text": [
      "Datum min 2013-01-06 00:00:00\n",
      "Datum max 2015-08-02 00:00:00\n"
     ]
    }
   ],
   "source": [
    "print(f\"Datum min {df.Datum.min()}\")\n",
    "print(f\"Datum max {df.Datum.max()}\")"
   ]
  },
  {
   "cell_type": "code",
   "execution_count": null,
   "metadata": {},
   "outputs": [
    {
     "name": "stdout",
     "output_type": "stream",
     "text": [
      "Train_Valid Datum min 2013-01-06 00:00:00\n",
      "Train_Valid Datum max 2015-05-31 00:00:00\n",
      "Test Datum min 2015-06-07 00:00:00\n",
      "Test Datum max 2015-08-02 00:00:00\n"
     ]
    }
   ],
   "source": [
    "# Splitten\n",
    "timestamp = pd.Timestamp(df[\"Datum\"].sort_values().iloc[-1])\n",
    "split_point = timestamp - pd.Timedelta(days=(7*8))\n",
    "df_train_valid = df[df[\"Datum\"] < split_point].reset_index(drop=True).copy()\n",
    "df_test = df[df[\"Datum\"] >= split_point].reset_index(drop=True).copy()\n",
    "\n",
    "print(f\"Train_Valid Datum min {df_train_valid.Datum.min()}\")\n",
    "print(f\"Train_Valid Datum max {df_train_valid.Datum.max()}\")\n",
    "print(f\"Test Datum min {df_test.Datum.min()}\")\n",
    "print(f\"Test Datum max {df_test.Datum.max()}\")"
   ]
  },
  {
   "cell_type": "markdown",
   "metadata": {},
   "source": [
    "Split-Punkt des Datensatzes für test und train_valid"
   ]
  },
  {
   "cell_type": "code",
   "execution_count": null,
   "metadata": {},
   "outputs": [
    {
     "data": {
      "image/png": "[encoded data removed]",
      "text/plain": [
       "<Figure size 1500x500 with 1 Axes>"
      ]
     },
     "metadata": {},
     "output_type": "display_data"
    }
   ],
   "source": [
    "fig, ax = plt.subplots(figsize=(15,5))\n",
    "df_train_valid.sort_values([\"Umsatz\",\"Datum\"]).plot(ax=ax, x=\"Datum\", y=\"Umsatz\", label=\"Training Set\", title=\"Data Train/Test Split\", style=\".\")\n",
    "df_test.sort_values([\"Umsatz\",\"Datum\"]).plot(ax=ax, x=\"Datum\", y=\"Umsatz\", label=\"Test Set\", style=\".\")\n",
    "ax.axvline(split_point, color=\"black\", ls=\"--\")\n",
    "ax.legend([\"Training_Valid Set\", \"Test Set\"])\n",
    "plt.show()"
   ]
  },
  {
   "cell_type": "markdown",
   "metadata": {},
   "source": [
    "df_train_valid in ebenfalls splitten"
   ]
  },
  {
   "cell_type": "code",
   "execution_count": null,
   "metadata": {},
   "outputs": [
    {
     "name": "stdout",
     "output_type": "stream",
     "text": [
      "Train Datum min 2013-01-06 00:00:00\n",
      "Train Datum max 2015-03-29 00:00:00\n",
      "Valid Datum min 2015-04-05 00:00:00\n",
      "Valid Datum max 2015-05-31 00:00:00\n"
     ]
    }
   ],
   "source": [
    "# Splitten\n",
    "timestamp = pd.Timestamp(df_train_valid[\"Datum\"].sort_values().iloc[-1])\n",
    "split_point = timestamp - pd.Timedelta(days=(7*8))\n",
    "df_train = df_train_valid[df_train_valid[\"Datum\"] < split_point].reset_index(drop=True).copy()\n",
    "df_valid = df_train_valid[df_train_valid[\"Datum\"] >= split_point].reset_index(drop=True).copy()\n",
    "\n",
    "print(f\"Train Datum min {df_train.Datum.min()}\")\n",
    "print(f\"Train Datum max {df_train.Datum.max()}\")\n",
    "print(f\"Valid Datum min {df_valid.Datum.min()}\")\n",
    "print(f\"Valid Datum max {df_valid.Datum.max()}\")"
   ]
  },
  {
   "cell_type": "markdown",
   "metadata": {},
   "source": [
    "Die Metriken zur Evaluation sind MAE, R2 und RMSE"
   ]
  },
  {
   "cell_type": "code",
   "execution_count": null,
   "metadata": {},
   "outputs": [],
   "source": [
    "def metriken(y_test, y_pred):\n",
    "    # Berechne die Metriken\n",
    "    mae = mean_absolute_error(y_test, y_pred)\n",
    "    r2 = r2_score(y_test, y_pred)\n",
    "    rmse = np.sqrt(mean_squared_error(y_test, y_pred))\n",
    "    return mae, r2, rmse"
   ]
  },
  {
   "cell_type": "markdown",
   "metadata": {},
   "source": [
    "Testen eines simplen Random Forest Regressionsmodell mit df_train und df_valid"
   ]
  },
  {
   "cell_type": "code",
   "execution_count": null,
   "metadata": {},
   "outputs": [
    {
     "data": {
      "text/html": [
       "<div>\n",
       "<style scoped>\n",
       "    .dataframe tbody tr th:only-of-type {\n",
       "        vertical-align: middle;\n",
       "    }\n",
       "\n",
       "    .dataframe tbody tr th {\n",
       "        vertical-align: top;\n",
       "    }\n",
       "\n",
       "    .dataframe thead th {\n",
       "        text-align: right;\n",
       "    }\n",
       "</style>\n",
       "<table border=\"1\" class=\"dataframe\">\n",
       "  <thead>\n",
       "    <tr style=\"text-align: right;\">\n",
       "      <th></th>\n",
       "      <th>Features</th>\n",
       "      <th>MAE</th>\n",
       "      <th>R2</th>\n",
       "      <th>RMSE</th>\n",
       "    </tr>\n",
       "  </thead>\n",
       "  <tbody>\n",
       "    <tr>\n",
       "      <th>0</th>\n",
       "      <td>alle</td>\n",
       "      <td>0.067717</td>\n",
       "      <td>0.941124</td>\n",
       "      <td>0.091084</td>\n",
       "    </tr>\n",
       "  </tbody>\n",
       "</table>\n",
       "</div>"
      ],
      "text/plain": [
       "  Features       MAE        R2      RMSE\n",
       "0     alle  0.067717  0.941124  0.091084"
      ]
     },
     "metadata": {},
     "output_type": "display_data"
    }
   ],
   "source": [
    "# Train Daten\n",
    "X_train = df_train.drop([\"Umsatz\", \"Datum\"], axis=1)\n",
    "y_train = df_train['Umsatz']\n",
    "# Test Daten\n",
    "X_test = df_valid.drop([\"Umsatz\", \"Datum\"], axis=1)\n",
    "y_test = df_valid['Umsatz']\n",
    "\n",
    "rf = RandomForestRegressor(n_jobs=-1).fit(X_train, y_train)\n",
    "\n",
    "# Vorhersage\n",
    "y_pred = rf.predict(X_test)\n",
    "\n",
    "# Metriken berechnen\n",
    "mae, r2, rmse = metriken(y_test, y_pred)\n",
    "\n",
    "results_transform = pd.DataFrame({\"Features\": [\"alle\"], \"MAE\": [mae], \"R2\": [r2], \"RMSE\": [rmse]})\n",
    "results = results_transform\n",
    "results"
   ]
  },
  {
   "cell_type": "markdown",
   "metadata": {},
   "source": [
    "Im nächsten Schritt suchen wir die besten Features aus um Overfitting und Rechenzeit zu reduzieren. Bei den Features wird Kundenzahl gelöscht, da dies keine statische Information ist."
   ]
  },
  {
   "cell_type": "markdown",
   "metadata": {},
   "source": [
    "# 2. <a id='toc2_'></a>Feature Selection [&#9650;](#toc0_)"
   ]
  },
  {
   "cell_type": "markdown",
   "metadata": {},
   "source": [
    "Hier werden mittels 3 Ansätzem Features rausgesucht und am Ende verglichen. "
   ]
  },
  {
   "cell_type": "markdown",
   "metadata": {},
   "source": [
    "## 2.1. <a id='toc2_1_'></a>per Korrelation [&#9650;](#toc0_)"
   ]
  },
  {
   "cell_type": "code",
   "execution_count": null,
   "metadata": {},
   "outputs": [
    {
     "data": {
      "text/plain": [
       "array(['Umsatz', 'Gruppe', 'Promo', 'Geöffnet', 'regulärer_Tag',\n",
       "       'Geschäftstyp_b', 'Sonntag', 'Promo2', 'Bundesland_Berlin',\n",
       "       'Promo2_seit_Jahr', 'Sortiment_basic', 'Sortiment_extended'],\n",
       "      dtype=object)"
      ]
     },
     "metadata": {},
     "output_type": "display_data"
    }
   ],
   "source": [
    "# Korrelation\n",
    "df_corr=df.drop(columns=[\"Datum\"]).corr()\n",
    "\n",
    "# Korrelation berechnen für den Einfluss der Faktoren auf SalesPerDay\n",
    "df_corr = round(df_corr[\"Umsatz\"].sort_values().reset_index(), 2)\n",
    "df_corr.columns = [\"Feature\", \"Importance\"]\n",
    "\n",
    "# sortieren\n",
    "df_corr = df_corr.sort_values(by=\"Importance\", key=lambda x: abs(x), ascending=False)\n",
    "# threshold von 0.1\n",
    "df_corr = df_corr[df_corr.Importance.abs() >= 0.1]\n",
    "np.array(df_corr.Feature)\n"
   ]
  },
  {
   "cell_type": "code",
   "execution_count": null,
   "metadata": {},
   "outputs": [
    {
     "data": {
      "text/html": [
       "<div>\n",
       "<style scoped>\n",
       "    .dataframe tbody tr th:only-of-type {\n",
       "        vertical-align: middle;\n",
       "    }\n",
       "\n",
       "    .dataframe tbody tr th {\n",
       "        vertical-align: top;\n",
       "    }\n",
       "\n",
       "    .dataframe thead th {\n",
       "        text-align: right;\n",
       "    }\n",
       "</style>\n",
       "<table border=\"1\" class=\"dataframe\">\n",
       "  <thead>\n",
       "    <tr style=\"text-align: right;\">\n",
       "      <th></th>\n",
       "      <th>Features</th>\n",
       "      <th>MAE</th>\n",
       "      <th>R2</th>\n",
       "      <th>RMSE</th>\n",
       "    </tr>\n",
       "  </thead>\n",
       "  <tbody>\n",
       "    <tr>\n",
       "      <th>0</th>\n",
       "      <td>alle</td>\n",
       "      <td>0.067717</td>\n",
       "      <td>0.941124</td>\n",
       "      <td>0.091084</td>\n",
       "    </tr>\n",
       "    <tr>\n",
       "      <th>0</th>\n",
       "      <td>Korrelation</td>\n",
       "      <td>0.126435</td>\n",
       "      <td>0.816456</td>\n",
       "      <td>0.160820</td>\n",
       "    </tr>\n",
       "  </tbody>\n",
       "</table>\n",
       "</div>"
      ],
      "text/plain": [
       "      Features       MAE        R2      RMSE\n",
       "0         alle  0.067717  0.941124  0.091084\n",
       "0  Korrelation  0.126435  0.816456  0.160820"
      ]
     },
     "metadata": {},
     "output_type": "display_data"
    }
   ],
   "source": [
    "features_korr = ['Gruppe', 'Promo', 'Geöffnet', 'regulärer_Tag',\n",
    "       'Geschäftstyp_b', 'Sonntag', 'Bundesland_Berlin',\n",
    "       'Promo2_seit_Jahr', 'Promo2', 'Sortiment_basic',\n",
    "       'Sortiment_extended']\n",
    "\n",
    "def features_testen(features_list, df_train, df_valid):\n",
    "       # Train Daten\n",
    "       X_train = df_train[features_list]\n",
    "       y_train = df_train['Umsatz']\n",
    "       # Test Daten\n",
    "       X_test = df_valid[features_list]\n",
    "       y_test = df_valid['Umsatz']\n",
    "       rf = RandomForestRegressor(n_jobs=-1).fit(X_train, y_train)\n",
    "       # Vorhersage\n",
    "       y_pred = rf.predict(X_test)\n",
    "       # Metriken berechnen\n",
    "       mae, r2, rmse = metriken(y_test, y_pred)\n",
    "       return mae, r2, rmse\n",
    "\n",
    "mae, r2, rmse = features_testen(features_korr, df_train, df_valid)\n",
    "results_korr = pd.DataFrame({\"Features\": [\"Korrelation\"], \"MAE\": [mae], \"R2\": [r2], \"RMSE\": [rmse]})\n",
    "results = pd.concat([results_transform, results_korr])\n",
    "results"
   ]
  },
  {
   "cell_type": "markdown",
   "metadata": {},
   "source": [
    "## 2.2. <a id='toc2_2_'></a>per RandomForestRegressor [&#9650;](#toc0_)"
   ]
  },
  {
   "cell_type": "code",
   "execution_count": null,
   "metadata": {},
   "outputs": [
    {
     "data": {
      "text/plain": [
       "array(['Gruppe', 'Promo', 'Bundesland_Bayern', 'Wettbew_Distanz',\n",
       "       'Kalenderwoche', 'Filiale', 'Geöffnet', 'Wettbew_seit_Monaten',\n",
       "       'Wettbew_offen_seit_Monat', 'Promo2_seit_Wochen', 'regulärer_Tag',\n",
       "       'Wettbew_offen_seit_Jahr', 'Kalenderwoche_cos',\n",
       "       'Promo2_seit_Woche', 'Kalenderwoche_sin', 'Monat', 'Monat_cos',\n",
       "       'Promo2_seit_Jahr', 'Schulferien', 'Geschäftstyp_a',\n",
       "       'Sortiment_basic', 'Bundesland_Berlin', 'Geschäftstyp_d',\n",
       "       'Bundesland_NRW', 'Sortiment_extended'], dtype='<U24')"
      ]
     },
     "metadata": {},
     "output_type": "display_data"
    }
   ],
   "source": [
    "# beste Features mit RandomForest\n",
    "# Daten\n",
    "# Train Daten\n",
    "X_train = df_train.drop([\"Umsatz\", \"Datum\"], axis=1)\n",
    "y_train = df_train['Umsatz']\n",
    "# Test Daten\n",
    "X_test = df_valid.drop([\"Umsatz\", \"Datum\"], axis=1)\n",
    "y_test = df_valid['Umsatz']\n",
    "\n",
    "# RandomForestRegressor-Modell\n",
    "\n",
    "# SelectFromModel\n",
    "select = SelectFromModel(RandomForestRegressor(n_jobs=-1, random_state=42), threshold=\"median\")\n",
    "select.fit(X_train, y_train)\n",
    "# Transformieren\n",
    "X_train_l1 = select.transform(X_train)\n",
    "y_pred = select.transform(X_test)\n",
    "\n",
    "# Wichtigkeit der Features\n",
    "feature_importances = select.estimator_.feature_importances_\n",
    "# Erstellen eines DataFrames mit den Feature-Namen und ihrer Wichtigkeit\n",
    "feature_names = X_train.columns\n",
    "feature_importance_df = pd.DataFrame({'Feature': feature_names, 'Importance': feature_importances}).sort_values(by='Importance', ascending=False)\n",
    "\n",
    "# Anzeigen der ausgewählten Features\n",
    "selected_features = feature_importance_df[feature_importance_df['Importance'] >= select.threshold_]\n",
    "features_rf = selected_features.Feature.to_list()\n",
    "np.array(features_rf)"
   ]
  },
  {
   "cell_type": "code",
   "execution_count": null,
   "metadata": {},
   "outputs": [
    {
     "data": {
      "text/html": [
       "<div>\n",
       "<style scoped>\n",
       "    .dataframe tbody tr th:only-of-type {\n",
       "        vertical-align: middle;\n",
       "    }\n",
       "\n",
       "    .dataframe tbody tr th {\n",
       "        vertical-align: top;\n",
       "    }\n",
       "\n",
       "    .dataframe thead th {\n",
       "        text-align: right;\n",
       "    }\n",
       "</style>\n",
       "<table border=\"1\" class=\"dataframe\">\n",
       "  <thead>\n",
       "    <tr style=\"text-align: right;\">\n",
       "      <th></th>\n",
       "      <th>Features</th>\n",
       "      <th>MAE</th>\n",
       "      <th>R2</th>\n",
       "      <th>RMSE</th>\n",
       "    </tr>\n",
       "  </thead>\n",
       "  <tbody>\n",
       "    <tr>\n",
       "      <th>0</th>\n",
       "      <td>alle</td>\n",
       "      <td>0.067717</td>\n",
       "      <td>0.941124</td>\n",
       "      <td>0.091084</td>\n",
       "    </tr>\n",
       "    <tr>\n",
       "      <th>0</th>\n",
       "      <td>Korrelation</td>\n",
       "      <td>0.126435</td>\n",
       "      <td>0.816456</td>\n",
       "      <td>0.160820</td>\n",
       "    </tr>\n",
       "    <tr>\n",
       "      <th>0</th>\n",
       "      <td>RandomForestRegressor</td>\n",
       "      <td>0.067324</td>\n",
       "      <td>0.939668</td>\n",
       "      <td>0.092203</td>\n",
       "    </tr>\n",
       "  </tbody>\n",
       "</table>\n",
       "</div>"
      ],
      "text/plain": [
       "                Features       MAE        R2      RMSE\n",
       "0                   alle  0.067717  0.941124  0.091084\n",
       "0            Korrelation  0.126435  0.816456  0.160820\n",
       "0  RandomForestRegressor  0.067324  0.939668  0.092203"
      ]
     },
     "metadata": {},
     "output_type": "display_data"
    }
   ],
   "source": [
    "features_rfr = ['Gruppe', 'Promo', 'Bundesland_Bayern', 'Wettbew_Distanz',\n",
    "       'Kalenderwoche', 'Filiale', 'Geöffnet', 'Wettbew_seit_Monaten',\n",
    "       'Wettbew_offen_seit_Monat', 'Promo2_seit_Wochen', 'regulärer_Tag',\n",
    "       'Wettbew_offen_seit_Jahr', 'Kalenderwoche_cos',\n",
    "       'Promo2_seit_Woche', 'Kalenderwoche_sin', 'Monat', 'Monat_cos',\n",
    "       'Promo2_seit_Jahr', 'Schulferien', 'Geschäftstyp_a',\n",
    "       'Sortiment_basic', 'Bundesland_Berlin', 'Geschäftstyp_d',\n",
    "       'Bundesland_NRW', 'Sortiment_extended']\n",
    "\n",
    "mae, r2, rmse = features_testen(features_rfr, df_train, df_valid)\n",
    "results_rf = pd.DataFrame({\"Features\": [\"RandomForestRegressor\"], \"MAE\": [mae], \"R2\": [r2], \"RMSE\": [rmse]})\n",
    "results = pd.concat([results, results_rf])\n",
    "results"
   ]
  },
  {
   "cell_type": "markdown",
   "metadata": {},
   "source": [
    "## 2.3. <a id='toc2_3_'></a>Recursive Feature Elimination (RFE) [&#9650;](#toc0_)"
   ]
  },
  {
   "cell_type": "code",
   "execution_count": null,
   "metadata": {},
   "outputs": [
    {
     "data": {
      "text/plain": [
       "array(['Gruppe', 'Promo', 'Wettbew_Distanz', 'Filiale', 'Kalenderwoche',\n",
       "       'Wettbew_seit_Monaten', 'Geöffnet', 'Promo2_seit_Woche',\n",
       "       'Wettbew_offen_seit_Monat', 'Wettbew_offen_seit_Jahr',\n",
       "       'regulärer_Tag', 'Kalenderwoche_cos'], dtype='<U24')"
      ]
     },
     "metadata": {},
     "output_type": "display_data"
    }
   ],
   "source": [
    "# die slected features vom rfr werden noch mal gefitlert mit RFE, aber vorher löschen einiger Spalten\n",
    "# zu löschen, \"Geöffnet\", \"Schulferien\", \"regulärer Tag\"\n",
    "features_rfr = ['Gruppe', 'Promo', 'Bundesland_Bayern', 'Wettbew_Distanz',\n",
    "       'Kalenderwoche', 'Filiale', 'Geöffnet', 'Wettbew_seit_Monaten',\n",
    "       'Wettbew_offen_seit_Monat', 'Promo2_seit_Wochen', 'regulärer_Tag',\n",
    "       'Wettbew_offen_seit_Jahr', 'Kalenderwoche_cos',\n",
    "       'Promo2_seit_Woche', 'Kalenderwoche_sin', 'Monat', 'Monat_cos',\n",
    "       'Promo2_seit_Jahr', 'Schulferien', 'Geschäftstyp_a',\n",
    "       'Sortiment_basic', 'Bundesland_Berlin', 'Geschäftstyp_d',\n",
    "       'Bundesland_NRW', 'Sortiment_extended']\n",
    "\n",
    "# Train Daten\n",
    "X_train = df_train[features_rfr]\n",
    "y_train = df_train['Umsatz']\n",
    "# Test Daten\n",
    "X_test = df_valid[features_rfr]\n",
    "y_test = df_valid['Umsatz']\n",
    "\n",
    "# RFE fitten\n",
    "select = RFE(RandomForestRegressor(n_jobs=-1, random_state=42, max_features=\"sqrt\"))\n",
    "select.fit(X_train, y_train)\n",
    "\n",
    "X_train_rfe = select.transform(X_train)\n",
    "X_test_rfe = select.transform(X_test)\n",
    "\n",
    "# Wichtigkeit der Features\n",
    "feature_importances = select.estimator_.feature_importances_\n",
    "\n",
    "# Erstellen eines DataFrames mit den Feature-Namen und ihrer Wichtigkeit\n",
    "feature_names = X_train.columns[select.support_]\n",
    "selected_features = pd.DataFrame({'Feature': feature_names, 'Importance': feature_importances})\n",
    "\n",
    "# Sortieren nach Wichtigkeit\n",
    "selected_features = selected_features.sort_values(by='Importance', ascending=False)\n",
    "\n",
    "# Anzeigen der ausgewählten Features\n",
    "features_rfe = selected_features.Feature.to_list()\n",
    "np.array(features_rfe)"
   ]
  },
  {
   "cell_type": "code",
   "execution_count": null,
   "metadata": {},
   "outputs": [
    {
     "data": {
      "text/html": [
       "<div>\n",
       "<style scoped>\n",
       "    .dataframe tbody tr th:only-of-type {\n",
       "        vertical-align: middle;\n",
       "    }\n",
       "\n",
       "    .dataframe tbody tr th {\n",
       "        vertical-align: top;\n",
       "    }\n",
       "\n",
       "    .dataframe thead th {\n",
       "        text-align: right;\n",
       "    }\n",
       "</style>\n",
       "<table border=\"1\" class=\"dataframe\">\n",
       "  <thead>\n",
       "    <tr style=\"text-align: right;\">\n",
       "      <th></th>\n",
       "      <th>Features</th>\n",
       "      <th>MAE</th>\n",
       "      <th>R2</th>\n",
       "      <th>RMSE</th>\n",
       "    </tr>\n",
       "  </thead>\n",
       "  <tbody>\n",
       "    <tr>\n",
       "      <th>0</th>\n",
       "      <td>alle</td>\n",
       "      <td>0.067717</td>\n",
       "      <td>0.941124</td>\n",
       "      <td>0.091084</td>\n",
       "    </tr>\n",
       "    <tr>\n",
       "      <th>0</th>\n",
       "      <td>Korrelation</td>\n",
       "      <td>0.126435</td>\n",
       "      <td>0.816456</td>\n",
       "      <td>0.160820</td>\n",
       "    </tr>\n",
       "    <tr>\n",
       "      <th>0</th>\n",
       "      <td>RandomForestRegressor</td>\n",
       "      <td>0.067324</td>\n",
       "      <td>0.939668</td>\n",
       "      <td>0.092203</td>\n",
       "    </tr>\n",
       "    <tr>\n",
       "      <th>0</th>\n",
       "      <td>Recursive Elimination</td>\n",
       "      <td>0.070203</td>\n",
       "      <td>0.932944</td>\n",
       "      <td>0.097205</td>\n",
       "    </tr>\n",
       "  </tbody>\n",
       "</table>\n",
       "</div>"
      ],
      "text/plain": [
       "                Features       MAE        R2      RMSE\n",
       "0                   alle  0.067717  0.941124  0.091084\n",
       "0            Korrelation  0.126435  0.816456  0.160820\n",
       "0  RandomForestRegressor  0.067324  0.939668  0.092203\n",
       "0  Recursive Elimination  0.070203  0.932944  0.097205"
      ]
     },
     "metadata": {},
     "output_type": "display_data"
    }
   ],
   "source": [
    "features_rfe = ['Gruppe', 'Promo', 'Wettbew_Distanz', 'Filiale', 'Kalenderwoche',\n",
    "       'Wettbew_seit_Monaten', 'Wettbew_offen_seit_Monat',\n",
    "       'Promo2_seit_Wochen', 'Promo2_seit_Woche',\n",
    "       'Wettbew_offen_seit_Jahr', 'Kalenderwoche_cos']\n",
    "\n",
    "mae, r2, rmse = features_testen(features_rfe, df_train, df_valid)\n",
    "results_rfe = pd.DataFrame({\"Features\": [\"Recursive Elimination\"], \"MAE\": [mae], \"R2\": [r2], \"RMSE\": [rmse]})\n",
    "results = pd.concat([results, results_rfe])\n",
    "results"
   ]
  },
  {
   "cell_type": "markdown",
   "metadata": {},
   "source": [
    "Das beste Ergebnis kommt RandomForestRegressor. Die features aus den rfr wurden weiter reduziert (löschen von \"Geöffnet\", \"Schulferien\", \"regulärer Tag\") und mit rfe noch mal reduziert.\n",
    "Die Feature sind die ausgewählten Features"
   ]
  },
  {
   "cell_type": "markdown",
   "metadata": {},
   "source": [
    "## 2.4. <a id='toc2_4_'></a>Final Features [&#9650;](#toc0_)"
   ]
  },
  {
   "cell_type": "code",
   "execution_count": null,
   "metadata": {},
   "outputs": [],
   "source": [
    "selected_features= ['Gruppe', 'Promo', 'Wettbew_Distanz', 'Filiale', 'Kalenderwoche',\n",
    "       'Wettbew_seit_Monaten', 'Wettbew_offen_seit_Monat',\n",
    "       'Promo2_seit_Wochen', 'Promo2_seit_Woche',\n",
    "       'Wettbew_offen_seit_Jahr', 'Kalenderwoche_cos']"
   ]
  },
  {
   "cell_type": "markdown",
   "metadata": {},
   "source": [
    "# 3. <a id='toc3_'></a>Auswahl des Machine Learning Moduls [&#9650;](#toc0_)"
   ]
  },
  {
   "cell_type": "code",
   "execution_count": null,
   "metadata": {},
   "outputs": [],
   "source": [
    "# Train Daten\n",
    "X_train = df_train[selected_features]\n",
    "y_train = df_train['Umsatz']\n",
    "# Test Daten\n",
    "X_test = df_valid[selected_features]\n",
    "y_test = df_valid['Umsatz']"
   ]
  },
  {
   "cell_type": "markdown",
   "metadata": {},
   "source": [
    "## 3.1. <a id='toc3_1_'></a>Average Modell [&#9650;](#toc0_)"
   ]
  },
  {
   "cell_type": "code",
   "execution_count": null,
   "metadata": {},
   "outputs": [
    {
     "data": {
      "text/html": [
       "<div>\n",
       "<style scoped>\n",
       "    .dataframe tbody tr th:only-of-type {\n",
       "        vertical-align: middle;\n",
       "    }\n",
       "\n",
       "    .dataframe tbody tr th {\n",
       "        vertical-align: top;\n",
       "    }\n",
       "\n",
       "    .dataframe thead th {\n",
       "        text-align: right;\n",
       "    }\n",
       "</style>\n",
       "<table border=\"1\" class=\"dataframe\">\n",
       "  <thead>\n",
       "    <tr style=\"text-align: right;\">\n",
       "      <th></th>\n",
       "      <th>Model</th>\n",
       "      <th>MAE</th>\n",
       "      <th>R2</th>\n",
       "      <th>RMSE</th>\n",
       "    </tr>\n",
       "  </thead>\n",
       "  <tbody>\n",
       "    <tr>\n",
       "      <th>0</th>\n",
       "      <td>Average</td>\n",
       "      <td>0.297406</td>\n",
       "      <td>-0.004063</td>\n",
       "      <td>0.376141</td>\n",
       "    </tr>\n",
       "  </tbody>\n",
       "</table>\n",
       "</div>"
      ],
      "text/plain": [
       "     Model       MAE        R2      RMSE\n",
       "0  Average  0.297406 -0.004063  0.376141"
      ]
     },
     "metadata": {},
     "output_type": "display_data"
    }
   ],
   "source": [
    "# Berechne den Durchschnitt der Trainingsdaten\n",
    "mean_sales = np.mean(y_train)\n",
    "\n",
    "# Verwende den Durchschnitt als Vorhersage für die Testdaten\n",
    "y_pred = np.full_like(y_test, mean_sales)\n",
    "\n",
    "# Metriken berechnen\n",
    "mae, r2, rmse = metriken(y_test, y_pred)\n",
    "\n",
    "results_avg = pd.DataFrame({\"Model\": [\"Average\"], \"MAE\": [mae], \"R2\": [r2], \"RMSE\": [rmse]})\n",
    "results = results_avg\n",
    "results"
   ]
  },
  {
   "cell_type": "markdown",
   "metadata": {},
   "source": [
    "## 3.2. <a id='toc3_2_'></a>Linear Regression [&#9650;](#toc0_)"
   ]
  },
  {
   "cell_type": "code",
   "execution_count": null,
   "metadata": {},
   "outputs": [
    {
     "data": {
      "text/html": [
       "<div>\n",
       "<style scoped>\n",
       "    .dataframe tbody tr th:only-of-type {\n",
       "        vertical-align: middle;\n",
       "    }\n",
       "\n",
       "    .dataframe tbody tr th {\n",
       "        vertical-align: top;\n",
       "    }\n",
       "\n",
       "    .dataframe thead th {\n",
       "        text-align: right;\n",
       "    }\n",
       "</style>\n",
       "<table border=\"1\" class=\"dataframe\">\n",
       "  <thead>\n",
       "    <tr style=\"text-align: right;\">\n",
       "      <th></th>\n",
       "      <th>Model</th>\n",
       "      <th>MAE</th>\n",
       "      <th>R2</th>\n",
       "      <th>RMSE</th>\n",
       "    </tr>\n",
       "  </thead>\n",
       "  <tbody>\n",
       "    <tr>\n",
       "      <th>0</th>\n",
       "      <td>Average</td>\n",
       "      <td>0.297406</td>\n",
       "      <td>-0.004063</td>\n",
       "      <td>0.376141</td>\n",
       "    </tr>\n",
       "    <tr>\n",
       "      <th>0</th>\n",
       "      <td>Linear Regression</td>\n",
       "      <td>0.136100</td>\n",
       "      <td>0.786306</td>\n",
       "      <td>0.173527</td>\n",
       "    </tr>\n",
       "  </tbody>\n",
       "</table>\n",
       "</div>"
      ],
      "text/plain": [
       "               Model       MAE        R2      RMSE\n",
       "0            Average  0.297406 -0.004063  0.376141\n",
       "0  Linear Regression  0.136100  0.786306  0.173527"
      ]
     },
     "metadata": {},
     "output_type": "display_data"
    }
   ],
   "source": [
    "# model \n",
    "lr = LinearRegression().fit(X_train, y_train)\n",
    "\n",
    "# prediction\n",
    "y_pred = lr.predict(X_test)\n",
    "\n",
    "# Metriken berechnen\n",
    "mae, r2, rmse = metriken(y_test, y_pred)\n",
    "\n",
    "results = pd.concat([results, pd.DataFrame({\"Model\": [\"Linear Regression\"], \"MAE\": [mae], \"R2\": [r2], \"RMSE\": [rmse]})])\n",
    "results"
   ]
  },
  {
   "cell_type": "markdown",
   "metadata": {},
   "source": [
    "## 3.3. <a id='toc3_3_'></a>Linear Regression Regularized Model - LASSO [&#9650;](#toc0_)"
   ]
  },
  {
   "cell_type": "code",
   "execution_count": null,
   "metadata": {},
   "outputs": [
    {
     "data": {
      "text/html": [
       "<div>\n",
       "<style scoped>\n",
       "    .dataframe tbody tr th:only-of-type {\n",
       "        vertical-align: middle;\n",
       "    }\n",
       "\n",
       "    .dataframe tbody tr th {\n",
       "        vertical-align: top;\n",
       "    }\n",
       "\n",
       "    .dataframe thead th {\n",
       "        text-align: right;\n",
       "    }\n",
       "</style>\n",
       "<table border=\"1\" class=\"dataframe\">\n",
       "  <thead>\n",
       "    <tr style=\"text-align: right;\">\n",
       "      <th></th>\n",
       "      <th>Model</th>\n",
       "      <th>MAE</th>\n",
       "      <th>R2</th>\n",
       "      <th>RMSE</th>\n",
       "    </tr>\n",
       "  </thead>\n",
       "  <tbody>\n",
       "    <tr>\n",
       "      <th>0</th>\n",
       "      <td>Average</td>\n",
       "      <td>0.297406</td>\n",
       "      <td>-0.004063</td>\n",
       "      <td>0.376141</td>\n",
       "    </tr>\n",
       "    <tr>\n",
       "      <th>0</th>\n",
       "      <td>Linear Regression</td>\n",
       "      <td>0.136100</td>\n",
       "      <td>0.786306</td>\n",
       "      <td>0.173527</td>\n",
       "    </tr>\n",
       "    <tr>\n",
       "      <th>0</th>\n",
       "      <td>Lasso</td>\n",
       "      <td>0.165477</td>\n",
       "      <td>0.676529</td>\n",
       "      <td>0.213495</td>\n",
       "    </tr>\n",
       "  </tbody>\n",
       "</table>\n",
       "</div>"
      ],
      "text/plain": [
       "               Model       MAE        R2      RMSE\n",
       "0            Average  0.297406 -0.004063  0.376141\n",
       "0  Linear Regression  0.136100  0.786306  0.173527\n",
       "0              Lasso  0.165477  0.676529  0.213495"
      ]
     },
     "metadata": {},
     "output_type": "display_data"
    }
   ],
   "source": [
    "# model \n",
    "lasso = Lasso(alpha=0.1).fit(X_train, y_train)\n",
    "\n",
    "# prediction\n",
    "y_pred = lasso.predict(X_test)\n",
    "\n",
    "# Metriken berechnen\n",
    "mae, r2, rmse = metriken(y_test, y_pred)\n",
    "\n",
    "results = pd.concat([results, pd.DataFrame({\"Model\": [\"Lasso\"], \"MAE\": [mae], \"R2\": [r2], \"RMSE\": [rmse]})])\n",
    "results\n"
   ]
  },
  {
   "cell_type": "markdown",
   "metadata": {},
   "source": [
    "## 3.4. <a id='toc3_4_'></a>Linear Regression Regularized Model - Ridge [&#9650;](#toc0_)"
   ]
  },
  {
   "cell_type": "code",
   "execution_count": null,
   "metadata": {},
   "outputs": [
    {
     "data": {
      "text/html": [
       "<div>\n",
       "<style scoped>\n",
       "    .dataframe tbody tr th:only-of-type {\n",
       "        vertical-align: middle;\n",
       "    }\n",
       "\n",
       "    .dataframe tbody tr th {\n",
       "        vertical-align: top;\n",
       "    }\n",
       "\n",
       "    .dataframe thead th {\n",
       "        text-align: right;\n",
       "    }\n",
       "</style>\n",
       "<table border=\"1\" class=\"dataframe\">\n",
       "  <thead>\n",
       "    <tr style=\"text-align: right;\">\n",
       "      <th></th>\n",
       "      <th>Model</th>\n",
       "      <th>MAE</th>\n",
       "      <th>R2</th>\n",
       "      <th>RMSE</th>\n",
       "    </tr>\n",
       "  </thead>\n",
       "  <tbody>\n",
       "    <tr>\n",
       "      <th>0</th>\n",
       "      <td>Average</td>\n",
       "      <td>0.297406</td>\n",
       "      <td>-0.004063</td>\n",
       "      <td>0.376141</td>\n",
       "    </tr>\n",
       "    <tr>\n",
       "      <th>0</th>\n",
       "      <td>Linear Regression</td>\n",
       "      <td>0.136100</td>\n",
       "      <td>0.786306</td>\n",
       "      <td>0.173527</td>\n",
       "    </tr>\n",
       "    <tr>\n",
       "      <th>0</th>\n",
       "      <td>Lasso</td>\n",
       "      <td>0.165477</td>\n",
       "      <td>0.676529</td>\n",
       "      <td>0.213495</td>\n",
       "    </tr>\n",
       "    <tr>\n",
       "      <th>0</th>\n",
       "      <td>Ridge</td>\n",
       "      <td>0.136099</td>\n",
       "      <td>0.786306</td>\n",
       "      <td>0.173527</td>\n",
       "    </tr>\n",
       "  </tbody>\n",
       "</table>\n",
       "</div>"
      ],
      "text/plain": [
       "               Model       MAE        R2      RMSE\n",
       "0            Average  0.297406 -0.004063  0.376141\n",
       "0  Linear Regression  0.136100  0.786306  0.173527\n",
       "0              Lasso  0.165477  0.676529  0.213495\n",
       "0              Ridge  0.136099  0.786306  0.173527"
      ]
     },
     "metadata": {},
     "output_type": "display_data"
    }
   ],
   "source": [
    "# model \n",
    "ridge = Ridge().fit(X_train, y_train)\n",
    "\n",
    "# prediction\n",
    "y_pred = ridge.predict(X_test)\n",
    "\n",
    "# Metriken berechnen\n",
    "mae, r2, rmse = metriken(y_test, y_pred)\n",
    "\n",
    "results = pd.concat([results, pd.DataFrame({\"Model\": [\"Ridge\"], \"MAE\": [mae], \"R2\": [r2], \"RMSE\": [rmse]})])\n",
    "results\n"
   ]
  },
  {
   "cell_type": "markdown",
   "metadata": {},
   "source": [
    "## 3.5. <a id='toc3_5_'></a>k nearest neighbor (KNN) [&#9650;](#toc0_)"
   ]
  },
  {
   "cell_type": "code",
   "execution_count": null,
   "metadata": {},
   "outputs": [
    {
     "data": {
      "text/html": [
       "<div>\n",
       "<style scoped>\n",
       "    .dataframe tbody tr th:only-of-type {\n",
       "        vertical-align: middle;\n",
       "    }\n",
       "\n",
       "    .dataframe tbody tr th {\n",
       "        vertical-align: top;\n",
       "    }\n",
       "\n",
       "    .dataframe thead th {\n",
       "        text-align: right;\n",
       "    }\n",
       "</style>\n",
       "<table border=\"1\" class=\"dataframe\">\n",
       "  <thead>\n",
       "    <tr style=\"text-align: right;\">\n",
       "      <th></th>\n",
       "      <th>Model</th>\n",
       "      <th>MAE</th>\n",
       "      <th>R2</th>\n",
       "      <th>RMSE</th>\n",
       "    </tr>\n",
       "  </thead>\n",
       "  <tbody>\n",
       "    <tr>\n",
       "      <th>0</th>\n",
       "      <td>Average</td>\n",
       "      <td>0.297406</td>\n",
       "      <td>-0.004063</td>\n",
       "      <td>0.376141</td>\n",
       "    </tr>\n",
       "    <tr>\n",
       "      <th>0</th>\n",
       "      <td>Linear Regression</td>\n",
       "      <td>0.136100</td>\n",
       "      <td>0.786306</td>\n",
       "      <td>0.173527</td>\n",
       "    </tr>\n",
       "    <tr>\n",
       "      <th>0</th>\n",
       "      <td>Lasso</td>\n",
       "      <td>0.165477</td>\n",
       "      <td>0.676529</td>\n",
       "      <td>0.213495</td>\n",
       "    </tr>\n",
       "    <tr>\n",
       "      <th>0</th>\n",
       "      <td>Ridge</td>\n",
       "      <td>0.136099</td>\n",
       "      <td>0.786306</td>\n",
       "      <td>0.173527</td>\n",
       "    </tr>\n",
       "    <tr>\n",
       "      <th>0</th>\n",
       "      <td>K-Nearest Neighbors</td>\n",
       "      <td>0.169748</td>\n",
       "      <td>0.746264</td>\n",
       "      <td>0.189087</td>\n",
       "    </tr>\n",
       "  </tbody>\n",
       "</table>\n",
       "</div>"
      ],
      "text/plain": [
       "                 Model       MAE        R2      RMSE\n",
       "0              Average  0.297406 -0.004063  0.376141\n",
       "0    Linear Regression  0.136100  0.786306  0.173527\n",
       "0                Lasso  0.165477  0.676529  0.213495\n",
       "0                Ridge  0.136099  0.786306  0.173527\n",
       "0  K-Nearest Neighbors  0.169748  0.746264  0.189087"
      ]
     },
     "metadata": {},
     "output_type": "display_data"
    }
   ],
   "source": [
    "# Modell\n",
    "knn = KNeighborsRegressor(n_neighbors=5).fit(X_train, y_train)\n",
    "\n",
    "# Vorhersage\n",
    "y_pred = knn.predict(X_test)\n",
    "\n",
    "# Metriken berechnen\n",
    "mae, r2, rmse = metriken(y_test, y_pred)\n",
    "\n",
    "# Ergebnisse speichern\n",
    "results = pd.concat([results, pd.DataFrame({\"Model\": [\"K-Nearest Neighbors\"], \"MAE\": [mae], \"R2\": [r2], \"RMSE\": [rmse]})])\n",
    "results\n",
    "\n"
   ]
  },
  {
   "cell_type": "markdown",
   "metadata": {},
   "source": [
    "## 3.6. <a id='toc3_6_'></a>Suport Vector Machines (SVM) [&#9650;](#toc0_)"
   ]
  },
  {
   "cell_type": "markdown",
   "metadata": {},
   "source": [
    "Dieses Modul lädt zu lange weshalb es verworfen wird."
   ]
  },
  {
   "cell_type": "code",
   "execution_count": null,
   "metadata": {},
   "outputs": [],
   "source": [
    "# takes too long\n",
    "# # Modell\n",
    "# svm = SVR(kernel='linear').fit(X_train, y_train)\n",
    "\n",
    "# # Vorhersage\n",
    "# y_pred = svm.predict(X_test)\n",
    "\n",
    "# # Metriken berechnen\n",
    "# mae, r2, rmse = metriken(y_test, y_pred)\n",
    "\n",
    "# # Ergebnisse speichern\n",
    "# results = pd.concat([results, pd.DataFrame({\"Model\": [\"Support Vector Machine\"], \"MAE\": [mae], \"R2\": [r2], \"RMSE\": [rmse]})])\n",
    "\n",
    "# results\n"
   ]
  },
  {
   "cell_type": "markdown",
   "metadata": {},
   "source": [
    "## 3.7. <a id='toc3_7_'></a>Random Forest Regressor [&#9650;](#toc0_)"
   ]
  },
  {
   "cell_type": "code",
   "execution_count": null,
   "metadata": {},
   "outputs": [
    {
     "data": {
      "text/html": [
       "<div>\n",
       "<style scoped>\n",
       "    .dataframe tbody tr th:only-of-type {\n",
       "        vertical-align: middle;\n",
       "    }\n",
       "\n",
       "    .dataframe tbody tr th {\n",
       "        vertical-align: top;\n",
       "    }\n",
       "\n",
       "    .dataframe thead th {\n",
       "        text-align: right;\n",
       "    }\n",
       "</style>\n",
       "<table border=\"1\" class=\"dataframe\">\n",
       "  <thead>\n",
       "    <tr style=\"text-align: right;\">\n",
       "      <th></th>\n",
       "      <th>Model</th>\n",
       "      <th>MAE</th>\n",
       "      <th>R2</th>\n",
       "      <th>RMSE</th>\n",
       "    </tr>\n",
       "  </thead>\n",
       "  <tbody>\n",
       "    <tr>\n",
       "      <th>0</th>\n",
       "      <td>Average</td>\n",
       "      <td>0.297406</td>\n",
       "      <td>-0.004063</td>\n",
       "      <td>0.376141</td>\n",
       "    </tr>\n",
       "    <tr>\n",
       "      <th>0</th>\n",
       "      <td>Linear Regression</td>\n",
       "      <td>0.136100</td>\n",
       "      <td>0.786306</td>\n",
       "      <td>0.173527</td>\n",
       "    </tr>\n",
       "    <tr>\n",
       "      <th>0</th>\n",
       "      <td>Lasso</td>\n",
       "      <td>0.165477</td>\n",
       "      <td>0.676529</td>\n",
       "      <td>0.213495</td>\n",
       "    </tr>\n",
       "    <tr>\n",
       "      <th>0</th>\n",
       "      <td>Ridge</td>\n",
       "      <td>0.136099</td>\n",
       "      <td>0.786306</td>\n",
       "      <td>0.173527</td>\n",
       "    </tr>\n",
       "    <tr>\n",
       "      <th>0</th>\n",
       "      <td>K-Nearest Neighbors</td>\n",
       "      <td>0.169748</td>\n",
       "      <td>0.746264</td>\n",
       "      <td>0.189087</td>\n",
       "    </tr>\n",
       "    <tr>\n",
       "      <th>0</th>\n",
       "      <td>Random Forest Regressor</td>\n",
       "      <td>0.069729</td>\n",
       "      <td>0.934502</td>\n",
       "      <td>0.096069</td>\n",
       "    </tr>\n",
       "  </tbody>\n",
       "</table>\n",
       "</div>"
      ],
      "text/plain": [
       "                     Model       MAE        R2      RMSE\n",
       "0                  Average  0.297406 -0.004063  0.376141\n",
       "0        Linear Regression  0.136100  0.786306  0.173527\n",
       "0                    Lasso  0.165477  0.676529  0.213495\n",
       "0                    Ridge  0.136099  0.786306  0.173527\n",
       "0      K-Nearest Neighbors  0.169748  0.746264  0.189087\n",
       "0  Random Forest Regressor  0.069729  0.934502  0.096069"
      ]
     },
     "metadata": {},
     "output_type": "display_data"
    }
   ],
   "source": [
    "# Modell\n",
    "rf = RandomForestRegressor(n_jobs=-1).fit(X_train, y_train)\n",
    "\n",
    "# Vorhersage\n",
    "y_pred = rf.predict(X_test)\n",
    "\n",
    "# Metriken berechnen\n",
    "mae, r2, rmse = metriken(y_test, y_pred)\n",
    "\n",
    "# Ergebnisse speichern\n",
    "results = pd.concat([results, pd.DataFrame({\"Model\": [\"Random Forest Regressor\"], \"MAE\": [mae], \"R2\": [r2], \"RMSE\": [rmse]})])\n",
    "\n",
    "results\n",
    "\n"
   ]
  },
  {
   "cell_type": "markdown",
   "metadata": {},
   "source": [
    "## 3.8. <a id='toc3_8_'></a>MLP Regressor (deep-Learning) [&#9650;](#toc0_)"
   ]
  },
  {
   "cell_type": "code",
   "execution_count": null,
   "metadata": {},
   "outputs": [
    {
     "data": {
      "text/html": [
       "<div>\n",
       "<style scoped>\n",
       "    .dataframe tbody tr th:only-of-type {\n",
       "        vertical-align: middle;\n",
       "    }\n",
       "\n",
       "    .dataframe tbody tr th {\n",
       "        vertical-align: top;\n",
       "    }\n",
       "\n",
       "    .dataframe thead th {\n",
       "        text-align: right;\n",
       "    }\n",
       "</style>\n",
       "<table border=\"1\" class=\"dataframe\">\n",
       "  <thead>\n",
       "    <tr style=\"text-align: right;\">\n",
       "      <th></th>\n",
       "      <th>Model</th>\n",
       "      <th>MAE</th>\n",
       "      <th>R2</th>\n",
       "      <th>RMSE</th>\n",
       "    </tr>\n",
       "  </thead>\n",
       "  <tbody>\n",
       "    <tr>\n",
       "      <th>0</th>\n",
       "      <td>Average</td>\n",
       "      <td>0.297406</td>\n",
       "      <td>-0.004063</td>\n",
       "      <td>0.376141</td>\n",
       "    </tr>\n",
       "    <tr>\n",
       "      <th>0</th>\n",
       "      <td>Linear Regression</td>\n",
       "      <td>0.136100</td>\n",
       "      <td>0.786306</td>\n",
       "      <td>0.173527</td>\n",
       "    </tr>\n",
       "    <tr>\n",
       "      <th>0</th>\n",
       "      <td>Lasso</td>\n",
       "      <td>0.165477</td>\n",
       "      <td>0.676529</td>\n",
       "      <td>0.213495</td>\n",
       "    </tr>\n",
       "    <tr>\n",
       "      <th>0</th>\n",
       "      <td>Ridge</td>\n",
       "      <td>0.136099</td>\n",
       "      <td>0.786306</td>\n",
       "      <td>0.173527</td>\n",
       "    </tr>\n",
       "    <tr>\n",
       "      <th>0</th>\n",
       "      <td>K-Nearest Neighbors</td>\n",
       "      <td>0.169748</td>\n",
       "      <td>0.746264</td>\n",
       "      <td>0.189087</td>\n",
       "    </tr>\n",
       "    <tr>\n",
       "      <th>0</th>\n",
       "      <td>Random Forest Regressor</td>\n",
       "      <td>0.069729</td>\n",
       "      <td>0.934502</td>\n",
       "      <td>0.096069</td>\n",
       "    </tr>\n",
       "    <tr>\n",
       "      <th>0</th>\n",
       "      <td>MLP Regressor</td>\n",
       "      <td>0.281166</td>\n",
       "      <td>-0.186532</td>\n",
       "      <td>0.408893</td>\n",
       "    </tr>\n",
       "  </tbody>\n",
       "</table>\n",
       "</div>"
      ],
      "text/plain": [
       "                     Model       MAE        R2      RMSE\n",
       "0                  Average  0.297406 -0.004063  0.376141\n",
       "0        Linear Regression  0.136100  0.786306  0.173527\n",
       "0                    Lasso  0.165477  0.676529  0.213495\n",
       "0                    Ridge  0.136099  0.786306  0.173527\n",
       "0      K-Nearest Neighbors  0.169748  0.746264  0.189087\n",
       "0  Random Forest Regressor  0.069729  0.934502  0.096069\n",
       "0            MLP Regressor  0.281166 -0.186532  0.408893"
      ]
     },
     "metadata": {},
     "output_type": "display_data"
    }
   ],
   "source": [
    "# Modell\n",
    "mlp = MLPRegressor(hidden_layer_sizes=(64, 32), max_iter=500, random_state=42).fit(X_train, y_train)\n",
    "\n",
    "# Vorhersage\n",
    "y_pred = mlp.predict(X_test)\n",
    "\n",
    "# Metriken berechnen\n",
    "mae, r2, rmse = metriken(y_test, y_pred)\n",
    "\n",
    "# Ergebnisse speichern\n",
    "results = pd.concat([results, pd.DataFrame({\"Model\": [\"MLP Regressor\"], \"MAE\": [mae], \"R2\": [r2], \"RMSE\": [rmse]})])\n",
    "results\n"
   ]
  },
  {
   "cell_type": "markdown",
   "metadata": {},
   "source": [
    "Als bestes Modell wurde Random Forest Regressor ausgewählt. Im weiteren führen wir ein CrossValidierung durch und finden die besten Hyperparameter"
   ]
  },
  {
   "cell_type": "markdown",
   "metadata": {},
   "source": [
    "# 4. <a id='toc4_'></a>CrossValidation und HyperParameter Tuning [&#9650;](#toc0_)"
   ]
  },
  {
   "cell_type": "markdown",
   "metadata": {},
   "source": [
    "## 4.1. <a id='toc4_1_'></a>Cross Validation [&#9650;](#toc0_)"
   ]
  },
  {
   "cell_type": "code",
   "execution_count": null,
   "metadata": {},
   "outputs": [],
   "source": [
    "\n",
    "X = df_train_valid[selected_features]\n",
    "y = df_train_valid['Umsatz']\n"
   ]
  },
  {
   "cell_type": "markdown",
   "metadata": {},
   "source": [
    "Hier erstellen wir eine Funktion zum splitten der Daten. Bei Zeitreihen ist es wichtig, den BlockingTimeSeriesSplit zu verwenden, um Datenlecks zu vermeiden. Dies geschieht durch das Einfügen von Rändern an zwei Stellen:\n",
    "1. **Zwischen Trainings- und Validierungsfalten**: Verhindert, dass das Modell Verzögerungswerte zweimal beobachtet, einmal als Regressor und einmal als Antwort.\n",
    "2. **Zwischen den Falten jeder Iteration**: Verhindert, dass das Modell Muster von einer Iteration zur nächsten speichert.\n",
    "Dadurch wird sichergestellt, dass das Modell keine zukünftigen Muster vorhersieht und die Ergebnisse realistischer sind. (Quelle: https://hub.packtpub.com/cross-validation-strategies-for-time-series-forecasting-tutorial/)"
   ]
  },
  {
   "cell_type": "code",
   "execution_count": null,
   "metadata": {},
   "outputs": [
    {
     "data": {
      "image/png": "[encoded data removed]",
      "text/plain": [
       "<Figure size 640x480 with 1 Axes>"
      ]
     },
     "metadata": {},
     "output_type": "display_data"
    }
   ],
   "source": [
    "class BlockingTimeSeriesSplit():\n",
    "    def __init__(self, n_splits, test_size=8):\n",
    "        self.n_splits = n_splits\n",
    "        self.test_size = test_size\n",
    "    \n",
    "    def get_n_splits(self, X, y=None, groups=None):\n",
    "        return self.n_splits\n",
    "    \n",
    "    def split(self, X, y=None, groups=None):\n",
    "        n_samples = len(X)\n",
    "        k_fold_size = n_samples // self.n_splits\n",
    "        indices = np.arange(n_samples)\n",
    "\n",
    "        for i in range(self.n_splits):\n",
    "            start = i * k_fold_size\n",
    "            stop = start + k_fold_size\n",
    "            mid = stop - self.test_size\n",
    "            yield indices[start: mid], indices[mid: stop]\n",
    "\n",
    "# Testen der splits\n",
    "# Daten\n",
    "data = df_train_valid.set_index(\"Datum\").sort_index()\n",
    "\n",
    "# Visualisierung der Splits, test size = 8 Wochen\n",
    "btscv = BlockingTimeSeriesSplit(n_splits=5, test_size=8)\n",
    "fig, ax = plt.subplots()\n",
    "\n",
    "for i, (train_index, test_index) in enumerate(btscv.split(data)):\n",
    "    ax.plot(data.index[train_index], [i + 1] * len(train_index), 'b.', label='Training' if i == 0 else \"\")\n",
    "    ax.plot(data.index[test_index], [i + 1] * len(test_index), 'r.', label='Test' if i == 0 else \"\")\n",
    "\n",
    "ax.set_xlabel('Datum')\n",
    "ax.set_ylabel('Splits')\n",
    "ax.set_yticks([1, 2, 3, 4, 5])\n",
    "ax.legend()\n",
    "plt.xticks(rotation=45)\n",
    "plt.show()"
   ]
  },
  {
   "cell_type": "markdown",
   "metadata": {},
   "source": [
    "Zunächst testen wir die Krossvalidierung mit 5 splits. Jedoch könnte es sein, dass die Trainingsdatensätze bei 5 splits zu klein ausfällt und der R2 drastisch fällt."
   ]
  },
  {
   "cell_type": "code",
   "execution_count": null,
   "metadata": {},
   "outputs": [
    {
     "name": "stdout",
     "output_type": "stream",
     "text": [
      "Loss: 0.796 (+/- 0.169)\n"
     ]
    }
   ],
   "source": [
    "rf = RandomForestRegressor(n_jobs=-1)\n",
    "btscv = BlockingTimeSeriesSplit(n_splits=5)\n",
    "scores = cross_val_score(rf, X, y, cv=btscv, scoring=\"r2\")\n",
    "print(\"Loss: {0:.3f} (+/- {1:.3f})\".format(scores.mean(), scores.std()))"
   ]
  },
  {
   "cell_type": "markdown",
   "metadata": {},
   "source": [
    "Wie erwartet ist der R2 Score gefallen, daher testen wir eine Splitanzahl von 3, damit die Trainingssätze größer sind."
   ]
  },
  {
   "cell_type": "code",
   "execution_count": null,
   "metadata": {},
   "outputs": [
    {
     "name": "stdout",
     "output_type": "stream",
     "text": [
      "Loss: 0.952 (+/- 0.025)\n"
     ]
    }
   ],
   "source": [
    "rf = RandomForestRegressor(n_jobs=-1)\n",
    "btscv = BlockingTimeSeriesSplit(n_splits=3)\n",
    "scores = cross_val_score(rf, X, y, cv=btscv, scoring=\"r2\")\n",
    "print(\"Loss: {0:.3f} (+/- {1:.3f})\".format(scores.mean(), scores.std()))"
   ]
  },
  {
   "cell_type": "markdown",
   "metadata": {},
   "source": [
    "Das Modell mit 3 splits schein recht stabil zu sein."
   ]
  },
  {
   "cell_type": "markdown",
   "metadata": {},
   "source": [
    "## 4.2. <a id='toc4_2_'></a>Hyperparameter Tuning [&#9650;](#toc0_)"
   ]
  },
  {
   "cell_type": "markdown",
   "metadata": {},
   "source": [
    "Das Hyperparameter Tuning wird nach Zufall vollzogen. Folgende Paramter werden zufällig ausprobiert.  \n",
    "1. n_estimators: Die Anzahl der Bäume im Wald. Mehr Bäume können die Genauigkeit verbessern, aber auch die Rechenzeit erhöhen.  \n",
    "\n",
    "2. max_features: Die Anzahl der Merkmale, die für die Aufteilung eines Knotens in Betracht gezogen werden. Optionen sind:\n",
    "    - 'sqrt': Wählt die Quadratwurzel der Gesamtzahl der Merkmale.\n",
    "    - 'log2': Wählt den Logarithmus zur Basis 2 der Gesamtzahl der Merkmale.\n",
    "3. max_depth: Die maximale Tiefe der Bäume. Eine größere Tiefe kann zu einer besseren Anpassung führen, aber auch das Risiko des Overfittings erhöhen. None bedeutet, dass die Knoten so lange erweitert werden, bis alle Blätter rein sind.  \n",
    "\n",
    "4. min_samples_split: Die minimale Anzahl von Stichproben, die erforderlich sind, um einen internen Knoten zu teilen. Kleinere Werte können zu einer besseren Anpassung führen, aber auch das Risiko des Overfittings erhöhen.  \n",
    "\n",
    "5. min_samples_leaf: Die minimale Anzahl von Stichproben, die in einem Blattknoten erforderlich sind. Kleinere Werte können zu einer besseren Anpassung führen, aber auch das Risiko des Overfittings erhöhen.  \n",
    "\n",
    "6. bootstrap: Ob Bootstrap-Stichproben verwendet werden sollen, wenn Bäume gebaut werden. True bedeutet, dass Bootstrap-Stichproben verwendet werden, False bedeutet, dass die gesamte Stichprobe verwendet wird."
   ]
  },
  {
   "cell_type": "code",
   "execution_count": null,
   "metadata": {},
   "outputs": [
    {
     "name": "stdout",
     "output_type": "stream",
     "text": [
      "Top 5 Parameterkombinationen und Scores:\n",
      "Parameter: {'bootstrap': True, 'max_depth': 18, 'max_features': 'log2', 'min_samples_leaf': 3, 'min_samples_split': 8, 'n_estimators': 92}, Score: -0.1067656993296265\n",
      "Parameter: {'bootstrap': False, 'max_depth': 19, 'max_features': 'sqrt', 'min_samples_leaf': 2, 'min_samples_split': 4, 'n_estimators': 84}, Score: -0.10712474910104361\n",
      "Parameter: {'bootstrap': False, 'max_depth': 17, 'max_features': 'log2', 'min_samples_leaf': 5, 'min_samples_split': 8, 'n_estimators': 82}, Score: -0.1094745217299444\n",
      "Parameter: {'bootstrap': False, 'max_depth': 18, 'max_features': 'log2', 'min_samples_leaf': 8, 'min_samples_split': 10, 'n_estimators': 83}, Score: -0.10978775261782081\n",
      "Parameter: {'bootstrap': False, 'max_depth': 19, 'max_features': 'log2', 'min_samples_leaf': 11, 'min_samples_split': 8, 'n_estimators': 45}, Score: -0.11108591493478528\n"
     ]
    }
   ],
   "source": [
    "# Modell und Parameterbereich definieren\n",
    "model = RandomForestRegressor(n_jobs=-1)\n",
    "param_dist = {\n",
    "    'n_estimators': randint(10, 150),\n",
    "    'max_depth': randint(1, 20),\n",
    "    'min_samples_split': randint(2, 12),\n",
    "    'min_samples_leaf': randint(2, 12),\n",
    "    'max_features': ['sqrt', 'log2'],\n",
    "    'bootstrap': [True, False]}\n",
    "\n",
    "btscv = BlockingTimeSeriesSplit(n_splits=5)\n",
    "\n",
    "# RMSE Scorer definieren\n",
    "rmse_scorer = make_scorer(mean_squared_error, greater_is_better=False, squared=False)\n",
    "\n",
    "# RandomizedSearchCV einrichten mit RMSE als Scoring\n",
    "random_search = RandomizedSearchCV(model, param_distributions=param_dist, n_iter=50, cv=btscv, n_jobs=-1, scoring=rmse_scorer)\n",
    "\n",
    "# RandomizedSearchCV ausführen\n",
    "random_search.fit(X, y)\n",
    "\n",
    "# Ergebnisse sortieren und die Top 5 anzeigen\n",
    "results = random_search.cv_results_\n",
    "top5_indices = np.argsort(results['rank_test_score'])[:5]\n",
    "\n",
    "print(\"Top 5 Parameterkombinationen und Scores:\")\n",
    "for idx in top5_indices:\n",
    "    print(f\"Parameter: {results['params'][idx]}, Score: {results['mean_test_score'][idx]}\")\n"
   ]
  },
  {
   "cell_type": "code",
   "execution_count": null,
   "metadata": {},
   "outputs": [],
   "source": [
    "# (n_estimators=51, max_features=\"sqrt\", max_depth=16, min_samples_split=7, min_samples_leaf=4, bootstrap=True, n_jobs=-1)"
   ]
  },
  {
   "cell_type": "markdown",
   "metadata": {},
   "source": [
    "Die Paramter werden unten in absteigender Reihenfolge auf Overfitting überprüft."
   ]
  },
  {
   "cell_type": "markdown",
   "metadata": {},
   "source": [
    "## 4.3. <a id='toc4_3_'></a>Paramater auf Overfitting testen [&#9650;](#toc0_)"
   ]
  },
  {
   "cell_type": "markdown",
   "metadata": {},
   "source": [
    "Um auf Overfitting zu prüfen, werden die Metriken für das Tainings- und Test-set verglichen. Wenn der Fehler (RMSE) bei dem Testdatensatz deutlich niedriger ist, könnte das Modell overfittet sein."
   ]
  },
  {
   "cell_type": "code",
   "execution_count": null,
   "metadata": {},
   "outputs": [],
   "source": [
    "# besten Parameter\n",
    "# (n_estimators=51, max_features=\"sqrt\", max_depth=16, min_samples_split=7, min_samples_leaf=4, bootstrap=True, n_jobs=-1)"
   ]
  },
  {
   "cell_type": "code",
   "execution_count": null,
   "metadata": {},
   "outputs": [
    {
     "data": {
      "text/html": [
       "<div>\n",
       "<style scoped>\n",
       "    .dataframe tbody tr th:only-of-type {\n",
       "        vertical-align: middle;\n",
       "    }\n",
       "\n",
       "    .dataframe tbody tr th {\n",
       "        vertical-align: top;\n",
       "    }\n",
       "\n",
       "    .dataframe thead th {\n",
       "        text-align: right;\n",
       "    }\n",
       "</style>\n",
       "<table border=\"1\" class=\"dataframe\">\n",
       "  <thead>\n",
       "    <tr style=\"text-align: right;\">\n",
       "      <th></th>\n",
       "      <th>Vergleich</th>\n",
       "      <th>MAE</th>\n",
       "      <th>R2</th>\n",
       "      <th>RMSE</th>\n",
       "    </tr>\n",
       "  </thead>\n",
       "  <tbody>\n",
       "    <tr>\n",
       "      <th>0</th>\n",
       "      <td>y_test&amp;y_pred_test</td>\n",
       "      <td>0.087455</td>\n",
       "      <td>0.907755</td>\n",
       "      <td>0.114010</td>\n",
       "    </tr>\n",
       "    <tr>\n",
       "      <th>0</th>\n",
       "      <td>y_train&amp;y_pred_train</td>\n",
       "      <td>0.075741</td>\n",
       "      <td>0.928104</td>\n",
       "      <td>0.103727</td>\n",
       "    </tr>\n",
       "  </tbody>\n",
       "</table>\n",
       "</div>"
      ],
      "text/plain": [
       "              Vergleich       MAE        R2      RMSE\n",
       "0    y_test&y_pred_test  0.087455  0.907755  0.114010\n",
       "0  y_train&y_pred_train  0.075741  0.928104  0.103727"
      ]
     },
     "metadata": {},
     "output_type": "display_data"
    }
   ],
   "source": [
    "# Train Daten\n",
    "X_train = df_train[selected_features]\n",
    "y_train = df_train['Umsatz']\n",
    "# Test Daten\n",
    "X_test = df_valid[selected_features]\n",
    "y_test = df_valid['Umsatz']\n",
    "\n",
    "# Modell fitten und prediction\n",
    "rf = RandomForestRegressor(n_estimators=51, max_features=\"sqrt\", max_depth=16, min_samples_split=7, min_samples_leaf=4, bootstrap=True).fit(X_train, y_train)\n",
    "y_pred_train = rf.predict(X_train)\n",
    "y_pred_test = rf.predict(X_test)\n",
    "\n",
    "# Metriken berechnen\n",
    "mae, r2, rmse = metriken(y_test, y_pred_test)\n",
    "summary1 = pd.DataFrame({\"Vergleich\": \"y_test&y_pred_test\", \"MAE\": [mae], \"R2\": [r2], \"RMSE\": [rmse]})\n",
    "mae, r2, rmse = metriken(y_train, y_pred_train)\n",
    "summary2 = pd.DataFrame({\"Vergleich\": \"y_train&y_pred_train\", \"MAE\": [mae], \"R2\": [r2], \"RMSE\": [rmse]})\n",
    "summary3 = pd.concat([summary1, summary2])\n",
    "summary3\n"
   ]
  },
  {
   "cell_type": "markdown",
   "metadata": {},
   "source": [
    "Mit einer Differenz von ca. 0.01 (~ 10 %) RMSE auf Trainings- und Validierungs-Datensatz ist das Modell recht stabil und zeigt kein overfitting. Daher wird Modell auf den Trainings-Datensatz ausprobiert."
   ]
  },
  {
   "cell_type": "code",
   "execution_count": null,
   "metadata": {},
   "outputs": [
    {
     "data": {
      "text/html": [
       "<div>\n",
       "<style scoped>\n",
       "    .dataframe tbody tr th:only-of-type {\n",
       "        vertical-align: middle;\n",
       "    }\n",
       "\n",
       "    .dataframe tbody tr th {\n",
       "        vertical-align: top;\n",
       "    }\n",
       "\n",
       "    .dataframe thead th {\n",
       "        text-align: right;\n",
       "    }\n",
       "</style>\n",
       "<table border=\"1\" class=\"dataframe\">\n",
       "  <thead>\n",
       "    <tr style=\"text-align: right;\">\n",
       "      <th></th>\n",
       "      <th>Vergleich</th>\n",
       "      <th>MAE</th>\n",
       "      <th>R2</th>\n",
       "      <th>RMSE</th>\n",
       "    </tr>\n",
       "  </thead>\n",
       "  <tbody>\n",
       "    <tr>\n",
       "      <th>0</th>\n",
       "      <td>y_test&amp;y_pred_test</td>\n",
       "      <td>0.096777</td>\n",
       "      <td>0.878156</td>\n",
       "      <td>0.124784</td>\n",
       "    </tr>\n",
       "    <tr>\n",
       "      <th>0</th>\n",
       "      <td>y_train&amp;y_pred_train</td>\n",
       "      <td>0.075604</td>\n",
       "      <td>0.928683</td>\n",
       "      <td>0.103099</td>\n",
       "    </tr>\n",
       "  </tbody>\n",
       "</table>\n",
       "</div>"
      ],
      "text/plain": [
       "              Vergleich       MAE        R2      RMSE\n",
       "0    y_test&y_pred_test  0.096777  0.878156  0.124784\n",
       "0  y_train&y_pred_train  0.075604  0.928683  0.103099"
      ]
     },
     "metadata": {},
     "output_type": "display_data"
    }
   ],
   "source": [
    "# Train Daten\n",
    "X_train = df_train_valid[selected_features]\n",
    "y_train = df_train_valid['Umsatz']\n",
    "# Test Daten\n",
    "X_test = df_test[selected_features]\n",
    "y_test = df_test['Umsatz']\n",
    "\n",
    "# Modell fitten und prediction\n",
    "rf = RandomForestRegressor(n_estimators=51, max_features=\"sqrt\", max_depth=16, min_samples_split=7, min_samples_leaf=4, bootstrap=True).fit(X_train, y_train)\n",
    "y_pred_train = rf.predict(X_train)\n",
    "y_pred_test = rf.predict(X_test)\n",
    "\n",
    "# Metriken berechnen\n",
    "mae, r2, rmse = metriken(y_test, y_pred_test)\n",
    "summary1 = pd.DataFrame({\"Vergleich\": \"y_test&y_pred_test\", \"MAE\": [mae], \"R2\": [r2], \"RMSE\": [rmse]})\n",
    "mae, r2, rmse = metriken(y_train, y_pred_train)\n",
    "summary2 = pd.DataFrame({\"Vergleich\": \"y_train&y_pred_train\", \"MAE\": [mae], \"R2\": [r2], \"RMSE\": [rmse]})\n",
    "summary3 = pd.concat([summary1, summary2])\n",
    "summary3\n"
   ]
  },
  {
   "cell_type": "markdown",
   "metadata": {},
   "source": [
    "Der RMSE ist etwas gefallen, aber trotzdem sehr gut."
   ]
  },
  {
   "cell_type": "markdown",
   "metadata": {},
   "source": [
    "# 5. <a id='toc5_'></a>ZukunftsDataframe erstellen [&#9650;](#toc0_)"
   ]
  },
  {
   "cell_type": "markdown",
   "metadata": {},
   "source": [
    "## 5.1. <a id='toc5_1_'></a>Datenskelett aufbauen (letzen 8 Wochen der Daten) [&#9650;](#toc0_)"
   ]
  },
  {
   "cell_type": "markdown",
   "metadata": {},
   "source": [
    "Zunächst wird ein Dataframe mit den selected features für die letzten 8 Wochen der Daten erstellt (2015-06-07 bis 2015-08-02). "
   ]
  },
  {
   "cell_type": "code",
   "execution_count": null,
   "metadata": {},
   "outputs": [
    {
     "name": "stdout",
     "output_type": "stream",
     "text": [
      "Train min 2013-01-06 00:00:00\n",
      "Train max 2015-05-31 00:00:00\n",
      "Test min 2015-06-07 00:00:00\n",
      "Test max 2015-08-02 00:00:00\n",
      "Test shape (10028, 52)\n"
     ]
    }
   ],
   "source": [
    "# Splitten\n",
    "print(f\"Train min {df_train_valid.Datum.min()}\")\n",
    "print(f\"Train max {df_train_valid.Datum.max()}\")\n",
    "print(f\"Test min {df_test.Datum.min()}\")\n",
    "print(f\"Test max {df_test.Datum.max()}\")\n",
    "print(f\"Test shape {df_test.shape}\")"
   ]
  },
  {
   "cell_type": "code",
   "execution_count": null,
   "metadata": {},
   "outputs": [
    {
     "name": "stdout",
     "output_type": "stream",
     "text": [
      "skelett min    2015-06-07 00:00:00\n",
      "skelett max    2015-08-02 00:00:00\n",
      "skelett shape  (10028, 3)\n"
     ]
    }
   ],
   "source": [
    "df_constructed = df_train_valid.copy().sort_values([\"Datum\", \"Filiale\"]).reset_index(drop=True)\n",
    "df_constructed[\"isFuture\"] = False\n",
    "\n",
    "# Zu erstellender Datenbereich\n",
    "timestamp = pd.Timestamp(df_weekly[\"Datum\"].sort_values().iloc[-1])\n",
    "split_point = timestamp - pd.Timedelta(days=(7*8))\n",
    "# Datum für Skelett erzeugen\n",
    "skelett_datum = pd.date_range(start=split_point, end=timestamp, freq=\"W\")\n",
    "skelett_datum = pd.DataFrame({\"Datum\": skelett_datum})\n",
    "skelett_datum[\"isFuture\"] = True\n",
    "skelett_datum[\"isFuture\"] = skelett_datum[\"isFuture\"].astype(bool)\n",
    "\n",
    "# Filiale in skelett einfügen\n",
    "df_list = []\n",
    "# Für jeden Filiale in future extra 8 wochen erzeugen\n",
    "for Filiale in df_constructed['Filiale'].unique():\n",
    "    # Füge die Filiale-Information zu future_df hinzu\n",
    "    skelett_filiale = skelett_datum.copy()\n",
    "    skelett_filiale['Filiale'] = Filiale\n",
    "    # Füge den DataFrame zur Liste hinzu\n",
    "    df_list.append(skelett_filiale)\n",
    "\n",
    "# Skelett Filiale und Datum vereinigen    \n",
    "skelett = pd.concat(df_list)\n",
    "skelett = skelett.sort_values([\"Datum\", \"Filiale\"])\n",
    "\n",
    "# zusätzliche Spalten i, selbst konstruierten dataframe finden \n",
    "extra_rows = skelett[~skelett.set_index(['Datum', 'Filiale']).index.isin(df_test.set_index(['Datum', 'Filiale']).index)]\n",
    "# Entferne die zusätzlichen Zeilen\n",
    "skelett = skelett[~skelett[['Datum', 'Filiale']].apply(tuple, axis=1).isin(extra_rows[['Datum', 'Filiale']].apply(tuple, axis=1))]\n",
    "\n",
    "print(f\"skelett min    {skelett.Datum.min()}\")\n",
    "print(f\"skelett max    {skelett.Datum.max()}\")\n",
    "print(f\"skelett shape  {skelett.shape}\")\n",
    "\n",
    "# Skelett an original df anfügen mit Feiertag bereits aufgespalten\n",
    "df_constructed = pd.concat([df_constructed, skelett]).sort_values([\"Filiale\", \"Datum\"]).reset_index(drop=True)"
   ]
  },
  {
   "cell_type": "markdown",
   "metadata": {},
   "source": [
    "Nachdem das Gerüst mit den Daten und Filialen nun steht, müssen die ausgewählten Features für das Zeitfenster imputiert werden.  "
   ]
  },
  {
   "cell_type": "code",
   "execution_count": null,
   "metadata": {},
   "outputs": [],
   "source": [
    "# statische Infos, einfach auffüllen\n",
    "to_original = ['Filiale']\n",
    "to_ffill = ['Gruppe',  'Promo2_seit_Woche',\n",
    "            'Wettbew_offen_seit_Monat', 'Wettbew_offen_seit_Jahr', 'Wettbew_Distanz']\n",
    "# mit Feature engineering erstellen\n",
    "to_feature = ['Wettbew_seit_Monaten', 'Promo2_seit_Wochen']\n",
    "# Vom Datum ableiten\n",
    "to_datum = ['Kalenderwoche', 'Kalenderwoche_cos']\n",
    "# Aus eda gewonnenen Erkenntnissen\n",
    "to_manuell = ['Promo']"
   ]
  },
  {
   "cell_type": "code",
   "execution_count": null,
   "metadata": {},
   "outputs": [
    {
     "name": "stdout",
     "output_type": "stream",
     "text": [
      "df_constructed shape: (10028, 12)\n"
     ]
    },
    {
     "data": {
      "text/html": [
       "<div>\n",
       "<style scoped>\n",
       "    .dataframe tbody tr th:only-of-type {\n",
       "        vertical-align: middle;\n",
       "    }\n",
       "\n",
       "    .dataframe tbody tr th {\n",
       "        vertical-align: top;\n",
       "    }\n",
       "\n",
       "    .dataframe thead th {\n",
       "        text-align: right;\n",
       "    }\n",
       "</style>\n",
       "<table border=\"1\" class=\"dataframe\">\n",
       "  <thead>\n",
       "    <tr style=\"text-align: right;\">\n",
       "      <th></th>\n",
       "      <th>Gruppe</th>\n",
       "      <th>Promo</th>\n",
       "      <th>Wettbew_Distanz</th>\n",
       "      <th>Filiale</th>\n",
       "      <th>Kalenderwoche</th>\n",
       "      <th>Wettbew_seit_Monaten</th>\n",
       "      <th>Wettbew_offen_seit_Monat</th>\n",
       "      <th>Promo2_seit_Wochen</th>\n",
       "      <th>Promo2_seit_Woche</th>\n",
       "      <th>Wettbew_offen_seit_Jahr</th>\n",
       "      <th>Kalenderwoche_cos</th>\n",
       "      <th>Datum</th>\n",
       "    </tr>\n",
       "  </thead>\n",
       "  <tbody>\n",
       "    <tr>\n",
       "      <th>126</th>\n",
       "      <td>2.0</td>\n",
       "      <td>5.0</td>\n",
       "      <td>1270.0</td>\n",
       "      <td>1</td>\n",
       "      <td>23</td>\n",
       "      <td>82</td>\n",
       "      <td>9.0</td>\n",
       "      <td>0</td>\n",
       "      <td>0.0</td>\n",
       "      <td>2008.0</td>\n",
       "      <td>-0.935016</td>\n",
       "      <td>2015-06-07</td>\n",
       "    </tr>\n",
       "    <tr>\n",
       "      <th>127</th>\n",
       "      <td>2.0</td>\n",
       "      <td>0.0</td>\n",
       "      <td>1270.0</td>\n",
       "      <td>1</td>\n",
       "      <td>24</td>\n",
       "      <td>82</td>\n",
       "      <td>9.0</td>\n",
       "      <td>0</td>\n",
       "      <td>0.0</td>\n",
       "      <td>2008.0</td>\n",
       "      <td>-0.970942</td>\n",
       "      <td>2015-06-14</td>\n",
       "    </tr>\n",
       "    <tr>\n",
       "      <th>128</th>\n",
       "      <td>2.0</td>\n",
       "      <td>5.0</td>\n",
       "      <td>1270.0</td>\n",
       "      <td>1</td>\n",
       "      <td>25</td>\n",
       "      <td>82</td>\n",
       "      <td>9.0</td>\n",
       "      <td>0</td>\n",
       "      <td>0.0</td>\n",
       "      <td>2008.0</td>\n",
       "      <td>-0.992709</td>\n",
       "      <td>2015-06-21</td>\n",
       "    </tr>\n",
       "    <tr>\n",
       "      <th>129</th>\n",
       "      <td>2.0</td>\n",
       "      <td>0.0</td>\n",
       "      <td>1270.0</td>\n",
       "      <td>1</td>\n",
       "      <td>26</td>\n",
       "      <td>83</td>\n",
       "      <td>9.0</td>\n",
       "      <td>0</td>\n",
       "      <td>0.0</td>\n",
       "      <td>2008.0</td>\n",
       "      <td>-1.000000</td>\n",
       "      <td>2015-06-28</td>\n",
       "    </tr>\n",
       "    <tr>\n",
       "      <th>130</th>\n",
       "      <td>2.0</td>\n",
       "      <td>5.0</td>\n",
       "      <td>1270.0</td>\n",
       "      <td>1</td>\n",
       "      <td>27</td>\n",
       "      <td>83</td>\n",
       "      <td>9.0</td>\n",
       "      <td>0</td>\n",
       "      <td>0.0</td>\n",
       "      <td>2008.0</td>\n",
       "      <td>-0.992709</td>\n",
       "      <td>2015-07-05</td>\n",
       "    </tr>\n",
       "  </tbody>\n",
       "</table>\n",
       "</div>"
      ],
      "text/plain": [
       "     Gruppe  Promo  Wettbew_Distanz  Filiale  Kalenderwoche  \\\n",
       "126     2.0    5.0           1270.0        1             23   \n",
       "127     2.0    0.0           1270.0        1             24   \n",
       "128     2.0    5.0           1270.0        1             25   \n",
       "129     2.0    0.0           1270.0        1             26   \n",
       "130     2.0    5.0           1270.0        1             27   \n",
       "\n",
       "     Wettbew_seit_Monaten  Wettbew_offen_seit_Monat  Promo2_seit_Wochen  \\\n",
       "126                    82                       9.0                   0   \n",
       "127                    82                       9.0                   0   \n",
       "128                    82                       9.0                   0   \n",
       "129                    83                       9.0                   0   \n",
       "130                    83                       9.0                   0   \n",
       "\n",
       "     Promo2_seit_Woche  Wettbew_offen_seit_Jahr  Kalenderwoche_cos      Datum  \n",
       "126                0.0                   2008.0          -0.935016 2015-06-07  \n",
       "127                0.0                   2008.0          -0.970942 2015-06-14  \n",
       "128                0.0                   2008.0          -0.992709 2015-06-21  \n",
       "129                0.0                   2008.0          -1.000000 2015-06-28  \n",
       "130                0.0                   2008.0          -0.992709 2015-07-05  "
      ]
     },
     "metadata": {},
     "output_type": "display_data"
    }
   ],
   "source": [
    "# Imputieren\n",
    "# ffill methode\n",
    "# Wettbew_Distanz\n",
    "for feature in to_ffill:\n",
    "    for i in df_constructed.Filiale.unique():\n",
    "        df_constructed.loc[df_constructed['Filiale'] == i, feature] = \\\n",
    "            df_constructed.loc[df_constructed['Filiale'] == i, feature].ffill()\n",
    "\n",
    "# Kalenderwoche\n",
    "df_constructed['Kalenderwoche'] = df_constructed['Kalenderwoche'].fillna(df_constructed.Datum.dt.isocalendar().week)\n",
    "df_constructed['Kalenderwoche_cos'] = df_constructed['Kalenderwoche'].apply(lambda x: np.cos(x*(2*np.pi/52)))\n",
    "\n",
    "# Wettbew_offen_seit_Monaten\n",
    "df_constructed.Wettbew_offen_seit_Jahr = df_constructed.Wettbew_offen_seit_Jahr.astype(\"float64\")\n",
    "df_constructed.Wettbew_offen_seit_Monat = df_constructed.Wettbew_offen_seit_Monat.astype(\"float64\")\n",
    "df_constructed['Wettbew_seit'] = df_constructed.apply(lambda x: datetime(year = int(x['Wettbew_offen_seit_Jahr']),\n",
    "                                                                         month = int(x['Wettbew_offen_seit_Monat']),\n",
    "                                                                         day = 1),\n",
    "                                                      axis = 1)\n",
    "df_constructed['Wettbew_seit_Monaten'] = ((df_constructed['Datum'] - df_constructed['Wettbew_seit']) / 30).apply(lambda x: x.days).astype(int)\n",
    "\n",
    "# Promo2_seit_Wochen\n",
    "# Promo2_seit_Jahr\n",
    "for i in df_constructed.Filiale.unique():\n",
    "    df_constructed.loc[df_constructed['Filiale'] == i, \"Promo2_seit_Jahr\"] = \\\n",
    "        df_constructed.loc[df_constructed['Filiale'] == i, \"Promo2_seit_Jahr\"].ffill()        \n",
    "df_constructed['Promo2_seit'] = np.where(df_constructed['Promo2_seit_Jahr'] != 0,\n",
    "                                   (df_constructed['Promo2_seit_Jahr']).astype(int).astype(str) + '-' + (df_constructed['Promo2_seit_Woche']).astype(int).astype(str),\n",
    "                                   \"2020-01\")\n",
    "df_constructed['Promo2_seit'] = df_constructed['Promo2_seit'].apply(lambda x: datetime.strptime(x + '-1', '%Y-%W-%w') - timedelta(days=7))\n",
    "# Berechne Promo2_seit_Wochen --> Promo2_seit vom aktuellen Datum subtrahieren\n",
    "df_constructed['Promo2_seit_Wochen'] = np.where(df_constructed['Promo2_seit'] != \"2019-12-30\",\n",
    "                                          round((df_constructed['Datum'] - df_constructed['Promo2_seit']) / np.timedelta64(1, \"W\")).astype(int),\n",
    "                                          0)\n",
    "\n",
    "\n",
    "# Promo --> Fehler von 6.91 %\n",
    "while df_constructed[\"Promo\"].isna().any():\n",
    "    for i in df_constructed.Filiale.unique():\n",
    "        df_constructed[\"Promo\"] = df_constructed[\"Promo\"].fillna(df_constructed[\"Promo\"].shift(2))\n",
    "\n",
    "# Promo --> auf diese Weise Fehler von 17.94 %\n",
    "# (Wochen: 1, 7, 9, 11, 24, 26, 28, 30, 31, 32, 42, 44, 50)\n",
    "# df_constructed[\"Promo\"] = np.where((df_constructed.Datum.dt.isocalendar().week == 1) | (df_constructed.Datum.dt.isocalendar().week == 7) | (df_constructed.Datum.dt.isocalendar().week == 9) |\n",
    "#                                     (df_constructed.Datum.dt.isocalendar().week == 11) | (df_constructed.Datum.dt.isocalendar().week == 24) | (df_constructed.Datum.dt.isocalendar().week == 26) |\n",
    "#                                     (df_constructed.Datum.dt.isocalendar().week == 28) | (df_constructed.Datum.dt.isocalendar().week == 30) | (df_constructed.Datum.dt.isocalendar().week == 31) | \n",
    "#                                     (df_constructed.Datum.dt.isocalendar().week == 32) | (df_constructed.Datum.dt.isocalendar().week == 42) | (df_constructed.Datum.dt.isocalendar().week == 44) | \n",
    "#                                     (df_constructed.Datum.dt.isocalendar().week == 50), 0, 5 )\n",
    "\n",
    "df_constructed = df_constructed.loc[df_constructed[\"isFuture\"] == True]\n",
    "df_constructed = df_constructed[selected_features + [\"Datum\"]]\n",
    "print(f\"df_constructed shape: {df_constructed.shape}\")\n",
    "df_constructed.head()"
   ]
  },
  {
   "cell_type": "code",
   "execution_count": null,
   "metadata": {},
   "outputs": [
    {
     "data": {
      "text/plain": [
       "0"
      ]
     },
     "metadata": {},
     "output_type": "display_data"
    }
   ],
   "source": [
    "df_constructed.isna().any().sum()"
   ]
  },
  {
   "cell_type": "markdown",
   "metadata": {},
   "source": [
    "Nun vergleichen wie gut df_test und df_constructed übereinstimmen"
   ]
  },
  {
   "cell_type": "code",
   "execution_count": null,
   "metadata": {},
   "outputs": [
    {
     "name": "stdout",
     "output_type": "stream",
     "text": [
      "Anteil falscher Werte Gruppe 0.0 %\n",
      "Anteil falscher Werte Promo 6.91 %\n",
      "Anteil falscher Werte Wettbew_Distanz 0.0 %\n",
      "Anteil falscher Werte Filiale 0.0 %\n",
      "Anteil falscher Werte Kalenderwoche 0.0 %\n",
      "Anteil falscher Werte Wettbew_seit_Monaten 3.78 %\n",
      "Anteil falscher Werte Wettbew_offen_seit_Monat 0.0 %\n",
      "Anteil falscher Werte Promo2_seit_Wochen 0.02 %\n",
      "Anteil falscher Werte Promo2_seit_Woche 0.0 %\n",
      "Anteil falscher Werte Wettbew_offen_seit_Jahr 0.0 %\n",
      "Anteil falscher Werte Kalenderwoche_cos 0.0 %\n",
      "Anteil falscher Werte Datum 0.0 %\n"
     ]
    }
   ],
   "source": [
    "# Unterschiede in den einzelnen Spalten zwischen df_test und df_constructed\n",
    "for feature in selected_features + [\"Datum\"]:   \n",
    "    anzahl_unterschiede = []\n",
    "    for filiale in df_constructed['Filiale'].unique():\n",
    "        df1 = df_constructed.loc[df_constructed['Filiale'] == filiale, [feature]].reset_index(drop=True).sort_index(axis=1)\n",
    "        df2 = df_test.loc[df_test['Filiale'] == filiale, [feature]].reset_index(drop=True).sort_index(axis=1)\n",
    "        comparison = df1.compare(df2)\n",
    "        if not comparison.empty:\n",
    "            anzahl_unterschiede.append(comparison.shape[0])\n",
    "    print(f\"Anteil falscher Werte {feature} {round(np.sum(anzahl_unterschiede) / df_constructed.shape[0] * 100, 2)} %\")"
   ]
  },
  {
   "cell_type": "markdown",
   "metadata": {},
   "source": [
    "Insgesamt wurden 6.91 %  Werte in Promo falsch imputiert.\n",
    "Der Unterschied ist durch die Daten nicht erklärbar."
   ]
  },
  {
   "cell_type": "code",
   "execution_count": null,
   "metadata": {},
   "outputs": [
    {
     "data": {
      "text/html": [
       "<div>\n",
       "<style scoped>\n",
       "    .dataframe tbody tr th:only-of-type {\n",
       "        vertical-align: middle;\n",
       "    }\n",
       "\n",
       "    .dataframe tbody tr th {\n",
       "        vertical-align: top;\n",
       "    }\n",
       "\n",
       "    .dataframe thead th {\n",
       "        text-align: right;\n",
       "    }\n",
       "</style>\n",
       "<table border=\"1\" class=\"dataframe\">\n",
       "  <thead>\n",
       "    <tr style=\"text-align: right;\">\n",
       "      <th></th>\n",
       "      <th>Filiale</th>\n",
       "      <th>Datum</th>\n",
       "      <th>Umsatz</th>\n",
       "      <th>Geöffnet</th>\n",
       "      <th>Promo</th>\n",
       "      <th>ist_Promo2</th>\n",
       "      <th>Schulferien</th>\n",
       "      <th>Ostern</th>\n",
       "      <th>Weihnachten</th>\n",
       "      <th>öffentl_Feiertag</th>\n",
       "      <th>regulärer_Tag</th>\n",
       "      <th>Sonntag</th>\n",
       "      <th>Gruppe</th>\n",
       "      <th>Wettbew_Distanz</th>\n",
       "      <th>Wettbew_seit_Monaten</th>\n",
       "      <th>Wettbew_offen_seit_Monat</th>\n",
       "      <th>Wettbew_offen_seit_Jahr</th>\n",
       "      <th>Promo2</th>\n",
       "      <th>Promo2_seit_Wochen</th>\n",
       "      <th>Promo2_seit_Woche</th>\n",
       "      <th>Promo2_seit_Jahr</th>\n",
       "      <th>Jahr</th>\n",
       "      <th>Quartal</th>\n",
       "      <th>Monat</th>\n",
       "      <th>Kalenderwoche</th>\n",
       "      <th>Geschäftstyp_a</th>\n",
       "      <th>Geschäftstyp_b</th>\n",
       "      <th>Geschäftstyp_c</th>\n",
       "      <th>Geschäftstyp_d</th>\n",
       "      <th>Sortiment_basic</th>\n",
       "      <th>Sortiment_extended</th>\n",
       "      <th>Sortiment_extra</th>\n",
       "      <th>Bundesland_Baden_Württemberg</th>\n",
       "      <th>Bundesland_Bayern</th>\n",
       "      <th>Bundesland_Berlin</th>\n",
       "      <th>Bundesland_Bremen</th>\n",
       "      <th>Bundesland_Hamburg</th>\n",
       "      <th>Bundesland_Hessen</th>\n",
       "      <th>Bundesland_NRW</th>\n",
       "      <th>Bundesland_Rheinland_Pfalz</th>\n",
       "      <th>Bundesland_Sachsen</th>\n",
       "      <th>Bundesland_Sachsen_Anhalt</th>\n",
       "      <th>Bundesland_Schleswig_Holstein</th>\n",
       "      <th>Bundesland_Thüringen</th>\n",
       "      <th>Quartal_sin</th>\n",
       "      <th>Quartal_cos</th>\n",
       "      <th>Monat_sin</th>\n",
       "      <th>Monat_cos</th>\n",
       "      <th>Kalenderwoche_sin</th>\n",
       "      <th>Kalenderwoche_cos</th>\n",
       "      <th>Jahr_sin</th>\n",
       "      <th>Jahr_cos</th>\n",
       "    </tr>\n",
       "  </thead>\n",
       "  <tbody>\n",
       "    <tr>\n",
       "      <th>0</th>\n",
       "      <td>1</td>\n",
       "      <td>2015-06-07</td>\n",
       "      <td>10.188666</td>\n",
       "      <td>5</td>\n",
       "      <td>4</td>\n",
       "      <td>0</td>\n",
       "      <td>0</td>\n",
       "      <td>0.0</td>\n",
       "      <td>0.0</td>\n",
       "      <td>0.0</td>\n",
       "      <td>5.0</td>\n",
       "      <td>0</td>\n",
       "      <td>2</td>\n",
       "      <td>1270.0</td>\n",
       "      <td>82.0</td>\n",
       "      <td>9.0</td>\n",
       "      <td>2008.0</td>\n",
       "      <td>0.0</td>\n",
       "      <td>0.0</td>\n",
       "      <td>0.0</td>\n",
       "      <td>0.0</td>\n",
       "      <td>2015.0</td>\n",
       "      <td>2.0</td>\n",
       "      <td>6.0</td>\n",
       "      <td>23</td>\n",
       "      <td>0.0</td>\n",
       "      <td>0.0</td>\n",
       "      <td>1.0</td>\n",
       "      <td>0.0</td>\n",
       "      <td>1.0</td>\n",
       "      <td>0.0</td>\n",
       "      <td>0.0</td>\n",
       "      <td>0.0</td>\n",
       "      <td>0.0</td>\n",
       "      <td>0.0</td>\n",
       "      <td>0.0</td>\n",
       "      <td>0.0</td>\n",
       "      <td>1.0</td>\n",
       "      <td>0.0</td>\n",
       "      <td>0.0</td>\n",
       "      <td>0.0</td>\n",
       "      <td>0.0</td>\n",
       "      <td>0.0</td>\n",
       "      <td>0.0</td>\n",
       "      <td>1.224647e-16</td>\n",
       "      <td>-1.0</td>\n",
       "      <td>1.224647e-16</td>\n",
       "      <td>-1.0</td>\n",
       "      <td>0.354605</td>\n",
       "      <td>-0.935016</td>\n",
       "      <td>-0.128748</td>\n",
       "      <td>-0.991677</td>\n",
       "    </tr>\n",
       "    <tr>\n",
       "      <th>2</th>\n",
       "      <td>3</td>\n",
       "      <td>2015-06-07</td>\n",
       "      <td>10.735222</td>\n",
       "      <td>5</td>\n",
       "      <td>4</td>\n",
       "      <td>0</td>\n",
       "      <td>0</td>\n",
       "      <td>0.0</td>\n",
       "      <td>0.0</td>\n",
       "      <td>0.0</td>\n",
       "      <td>5.0</td>\n",
       "      <td>0</td>\n",
       "      <td>3</td>\n",
       "      <td>14130.0</td>\n",
       "      <td>103.0</td>\n",
       "      <td>12.0</td>\n",
       "      <td>2006.0</td>\n",
       "      <td>1.0</td>\n",
       "      <td>219.0</td>\n",
       "      <td>14.0</td>\n",
       "      <td>2011.0</td>\n",
       "      <td>2015.0</td>\n",
       "      <td>2.0</td>\n",
       "      <td>6.0</td>\n",
       "      <td>23</td>\n",
       "      <td>1.0</td>\n",
       "      <td>0.0</td>\n",
       "      <td>0.0</td>\n",
       "      <td>0.0</td>\n",
       "      <td>1.0</td>\n",
       "      <td>0.0</td>\n",
       "      <td>0.0</td>\n",
       "      <td>0.0</td>\n",
       "      <td>0.0</td>\n",
       "      <td>0.0</td>\n",
       "      <td>0.0</td>\n",
       "      <td>0.0</td>\n",
       "      <td>0.0</td>\n",
       "      <td>1.0</td>\n",
       "      <td>0.0</td>\n",
       "      <td>0.0</td>\n",
       "      <td>0.0</td>\n",
       "      <td>0.0</td>\n",
       "      <td>0.0</td>\n",
       "      <td>1.224647e-16</td>\n",
       "      <td>-1.0</td>\n",
       "      <td>1.224647e-16</td>\n",
       "      <td>-1.0</td>\n",
       "      <td>0.354605</td>\n",
       "      <td>-0.935016</td>\n",
       "      <td>-0.128748</td>\n",
       "      <td>-0.991677</td>\n",
       "    </tr>\n",
       "    <tr>\n",
       "      <th>8</th>\n",
       "      <td>9</td>\n",
       "      <td>2015-06-07</td>\n",
       "      <td>10.807746</td>\n",
       "      <td>5</td>\n",
       "      <td>4</td>\n",
       "      <td>0</td>\n",
       "      <td>0</td>\n",
       "      <td>0.0</td>\n",
       "      <td>0.0</td>\n",
       "      <td>0.0</td>\n",
       "      <td>5.0</td>\n",
       "      <td>0</td>\n",
       "      <td>3</td>\n",
       "      <td>2030.0</td>\n",
       "      <td>180.0</td>\n",
       "      <td>8.0</td>\n",
       "      <td>2000.0</td>\n",
       "      <td>0.0</td>\n",
       "      <td>0.0</td>\n",
       "      <td>0.0</td>\n",
       "      <td>0.0</td>\n",
       "      <td>2015.0</td>\n",
       "      <td>2.0</td>\n",
       "      <td>6.0</td>\n",
       "      <td>23</td>\n",
       "      <td>1.0</td>\n",
       "      <td>0.0</td>\n",
       "      <td>0.0</td>\n",
       "      <td>0.0</td>\n",
       "      <td>0.0</td>\n",
       "      <td>1.0</td>\n",
       "      <td>0.0</td>\n",
       "      <td>0.0</td>\n",
       "      <td>0.0</td>\n",
       "      <td>0.0</td>\n",
       "      <td>0.0</td>\n",
       "      <td>0.0</td>\n",
       "      <td>0.0</td>\n",
       "      <td>1.0</td>\n",
       "      <td>0.0</td>\n",
       "      <td>0.0</td>\n",
       "      <td>0.0</td>\n",
       "      <td>0.0</td>\n",
       "      <td>0.0</td>\n",
       "      <td>1.224647e-16</td>\n",
       "      <td>-1.0</td>\n",
       "      <td>1.224647e-16</td>\n",
       "      <td>-1.0</td>\n",
       "      <td>0.354605</td>\n",
       "      <td>-0.935016</td>\n",
       "      <td>-0.128748</td>\n",
       "      <td>-0.991677</td>\n",
       "    </tr>\n",
       "    <tr>\n",
       "      <th>12</th>\n",
       "      <td>13</td>\n",
       "      <td>2015-06-07</td>\n",
       "      <td>10.295057</td>\n",
       "      <td>5</td>\n",
       "      <td>4</td>\n",
       "      <td>0</td>\n",
       "      <td>4</td>\n",
       "      <td>0.0</td>\n",
       "      <td>0.0</td>\n",
       "      <td>0.0</td>\n",
       "      <td>5.0</td>\n",
       "      <td>0</td>\n",
       "      <td>1</td>\n",
       "      <td>310.0</td>\n",
       "      <td>146.0</td>\n",
       "      <td>6.0</td>\n",
       "      <td>2003.0</td>\n",
       "      <td>1.0</td>\n",
       "      <td>292.0</td>\n",
       "      <td>45.0</td>\n",
       "      <td>2009.0</td>\n",
       "      <td>2015.0</td>\n",
       "      <td>2.0</td>\n",
       "      <td>6.0</td>\n",
       "      <td>23</td>\n",
       "      <td>0.0</td>\n",
       "      <td>0.0</td>\n",
       "      <td>0.0</td>\n",
       "      <td>1.0</td>\n",
       "      <td>1.0</td>\n",
       "      <td>0.0</td>\n",
       "      <td>0.0</td>\n",
       "      <td>0.0</td>\n",
       "      <td>1.0</td>\n",
       "      <td>0.0</td>\n",
       "      <td>0.0</td>\n",
       "      <td>0.0</td>\n",
       "      <td>0.0</td>\n",
       "      <td>0.0</td>\n",
       "      <td>0.0</td>\n",
       "      <td>0.0</td>\n",
       "      <td>0.0</td>\n",
       "      <td>0.0</td>\n",
       "      <td>0.0</td>\n",
       "      <td>1.224647e-16</td>\n",
       "      <td>-1.0</td>\n",
       "      <td>1.224647e-16</td>\n",
       "      <td>-1.0</td>\n",
       "      <td>0.354605</td>\n",
       "      <td>-0.935016</td>\n",
       "      <td>-0.128748</td>\n",
       "      <td>-0.991677</td>\n",
       "    </tr>\n",
       "    <tr>\n",
       "      <th>13</th>\n",
       "      <td>14</td>\n",
       "      <td>2015-06-07</td>\n",
       "      <td>10.403505</td>\n",
       "      <td>5</td>\n",
       "      <td>4</td>\n",
       "      <td>0</td>\n",
       "      <td>0</td>\n",
       "      <td>0.0</td>\n",
       "      <td>0.0</td>\n",
       "      <td>0.0</td>\n",
       "      <td>5.0</td>\n",
       "      <td>0</td>\n",
       "      <td>2</td>\n",
       "      <td>1300.0</td>\n",
       "      <td>15.0</td>\n",
       "      <td>3.0</td>\n",
       "      <td>2014.0</td>\n",
       "      <td>1.0</td>\n",
       "      <td>193.0</td>\n",
       "      <td>40.0</td>\n",
       "      <td>2011.0</td>\n",
       "      <td>2015.0</td>\n",
       "      <td>2.0</td>\n",
       "      <td>6.0</td>\n",
       "      <td>23</td>\n",
       "      <td>1.0</td>\n",
       "      <td>0.0</td>\n",
       "      <td>0.0</td>\n",
       "      <td>0.0</td>\n",
       "      <td>1.0</td>\n",
       "      <td>0.0</td>\n",
       "      <td>0.0</td>\n",
       "      <td>0.0</td>\n",
       "      <td>0.0</td>\n",
       "      <td>0.0</td>\n",
       "      <td>0.0</td>\n",
       "      <td>0.0</td>\n",
       "      <td>0.0</td>\n",
       "      <td>1.0</td>\n",
       "      <td>0.0</td>\n",
       "      <td>0.0</td>\n",
       "      <td>0.0</td>\n",
       "      <td>0.0</td>\n",
       "      <td>0.0</td>\n",
       "      <td>1.224647e-16</td>\n",
       "      <td>-1.0</td>\n",
       "      <td>1.224647e-16</td>\n",
       "      <td>-1.0</td>\n",
       "      <td>0.354605</td>\n",
       "      <td>-0.935016</td>\n",
       "      <td>-0.128748</td>\n",
       "      <td>-0.991677</td>\n",
       "    </tr>\n",
       "    <tr>\n",
       "      <th>...</th>\n",
       "      <td>...</td>\n",
       "      <td>...</td>\n",
       "      <td>...</td>\n",
       "      <td>...</td>\n",
       "      <td>...</td>\n",
       "      <td>...</td>\n",
       "      <td>...</td>\n",
       "      <td>...</td>\n",
       "      <td>...</td>\n",
       "      <td>...</td>\n",
       "      <td>...</td>\n",
       "      <td>...</td>\n",
       "      <td>...</td>\n",
       "      <td>...</td>\n",
       "      <td>...</td>\n",
       "      <td>...</td>\n",
       "      <td>...</td>\n",
       "      <td>...</td>\n",
       "      <td>...</td>\n",
       "      <td>...</td>\n",
       "      <td>...</td>\n",
       "      <td>...</td>\n",
       "      <td>...</td>\n",
       "      <td>...</td>\n",
       "      <td>...</td>\n",
       "      <td>...</td>\n",
       "      <td>...</td>\n",
       "      <td>...</td>\n",
       "      <td>...</td>\n",
       "      <td>...</td>\n",
       "      <td>...</td>\n",
       "      <td>...</td>\n",
       "      <td>...</td>\n",
       "      <td>...</td>\n",
       "      <td>...</td>\n",
       "      <td>...</td>\n",
       "      <td>...</td>\n",
       "      <td>...</td>\n",
       "      <td>...</td>\n",
       "      <td>...</td>\n",
       "      <td>...</td>\n",
       "      <td>...</td>\n",
       "      <td>...</td>\n",
       "      <td>...</td>\n",
       "      <td>...</td>\n",
       "      <td>...</td>\n",
       "      <td>...</td>\n",
       "      <td>...</td>\n",
       "      <td>...</td>\n",
       "      <td>...</td>\n",
       "      <td>...</td>\n",
       "      <td>...</td>\n",
       "    </tr>\n",
       "    <tr>\n",
       "      <th>1106</th>\n",
       "      <td>1107</td>\n",
       "      <td>2015-06-07</td>\n",
       "      <td>10.613148</td>\n",
       "      <td>5</td>\n",
       "      <td>4</td>\n",
       "      <td>0</td>\n",
       "      <td>4</td>\n",
       "      <td>0.0</td>\n",
       "      <td>0.0</td>\n",
       "      <td>0.0</td>\n",
       "      <td>5.0</td>\n",
       "      <td>0</td>\n",
       "      <td>2</td>\n",
       "      <td>1400.0</td>\n",
       "      <td>36.0</td>\n",
       "      <td>6.0</td>\n",
       "      <td>2012.0</td>\n",
       "      <td>1.0</td>\n",
       "      <td>272.0</td>\n",
       "      <td>13.0</td>\n",
       "      <td>2010.0</td>\n",
       "      <td>2015.0</td>\n",
       "      <td>2.0</td>\n",
       "      <td>6.0</td>\n",
       "      <td>23</td>\n",
       "      <td>1.0</td>\n",
       "      <td>0.0</td>\n",
       "      <td>0.0</td>\n",
       "      <td>0.0</td>\n",
       "      <td>1.0</td>\n",
       "      <td>0.0</td>\n",
       "      <td>0.0</td>\n",
       "      <td>0.0</td>\n",
       "      <td>1.0</td>\n",
       "      <td>0.0</td>\n",
       "      <td>0.0</td>\n",
       "      <td>0.0</td>\n",
       "      <td>0.0</td>\n",
       "      <td>0.0</td>\n",
       "      <td>0.0</td>\n",
       "      <td>0.0</td>\n",
       "      <td>0.0</td>\n",
       "      <td>0.0</td>\n",
       "      <td>0.0</td>\n",
       "      <td>1.224647e-16</td>\n",
       "      <td>-1.0</td>\n",
       "      <td>1.224647e-16</td>\n",
       "      <td>-1.0</td>\n",
       "      <td>0.354605</td>\n",
       "      <td>-0.935016</td>\n",
       "      <td>-0.128748</td>\n",
       "      <td>-0.991677</td>\n",
       "    </tr>\n",
       "    <tr>\n",
       "      <th>1108</th>\n",
       "      <td>1109</td>\n",
       "      <td>2015-06-07</td>\n",
       "      <td>10.301928</td>\n",
       "      <td>5</td>\n",
       "      <td>4</td>\n",
       "      <td>0</td>\n",
       "      <td>4</td>\n",
       "      <td>0.0</td>\n",
       "      <td>0.0</td>\n",
       "      <td>0.0</td>\n",
       "      <td>5.0</td>\n",
       "      <td>0</td>\n",
       "      <td>1</td>\n",
       "      <td>3490.0</td>\n",
       "      <td>50.0</td>\n",
       "      <td>4.0</td>\n",
       "      <td>2011.0</td>\n",
       "      <td>1.0</td>\n",
       "      <td>159.0</td>\n",
       "      <td>22.0</td>\n",
       "      <td>2012.0</td>\n",
       "      <td>2015.0</td>\n",
       "      <td>2.0</td>\n",
       "      <td>6.0</td>\n",
       "      <td>23</td>\n",
       "      <td>0.0</td>\n",
       "      <td>0.0</td>\n",
       "      <td>1.0</td>\n",
       "      <td>0.0</td>\n",
       "      <td>1.0</td>\n",
       "      <td>0.0</td>\n",
       "      <td>0.0</td>\n",
       "      <td>0.0</td>\n",
       "      <td>1.0</td>\n",
       "      <td>0.0</td>\n",
       "      <td>0.0</td>\n",
       "      <td>0.0</td>\n",
       "      <td>0.0</td>\n",
       "      <td>0.0</td>\n",
       "      <td>0.0</td>\n",
       "      <td>0.0</td>\n",
       "      <td>0.0</td>\n",
       "      <td>0.0</td>\n",
       "      <td>0.0</td>\n",
       "      <td>1.224647e-16</td>\n",
       "      <td>-1.0</td>\n",
       "      <td>1.224647e-16</td>\n",
       "      <td>-1.0</td>\n",
       "      <td>0.354605</td>\n",
       "      <td>-0.935016</td>\n",
       "      <td>-0.128748</td>\n",
       "      <td>-0.991677</td>\n",
       "    </tr>\n",
       "    <tr>\n",
       "      <th>1110</th>\n",
       "      <td>1111</td>\n",
       "      <td>2015-06-07</td>\n",
       "      <td>10.292078</td>\n",
       "      <td>5</td>\n",
       "      <td>4</td>\n",
       "      <td>0</td>\n",
       "      <td>0</td>\n",
       "      <td>0.0</td>\n",
       "      <td>0.0</td>\n",
       "      <td>0.0</td>\n",
       "      <td>5.0</td>\n",
       "      <td>0</td>\n",
       "      <td>2</td>\n",
       "      <td>1900.0</td>\n",
       "      <td>12.0</td>\n",
       "      <td>6.0</td>\n",
       "      <td>2014.0</td>\n",
       "      <td>1.0</td>\n",
       "      <td>97.0</td>\n",
       "      <td>31.0</td>\n",
       "      <td>2013.0</td>\n",
       "      <td>2015.0</td>\n",
       "      <td>2.0</td>\n",
       "      <td>6.0</td>\n",
       "      <td>23</td>\n",
       "      <td>1.0</td>\n",
       "      <td>0.0</td>\n",
       "      <td>0.0</td>\n",
       "      <td>0.0</td>\n",
       "      <td>1.0</td>\n",
       "      <td>0.0</td>\n",
       "      <td>0.0</td>\n",
       "      <td>0.0</td>\n",
       "      <td>0.0</td>\n",
       "      <td>0.0</td>\n",
       "      <td>0.0</td>\n",
       "      <td>0.0</td>\n",
       "      <td>0.0</td>\n",
       "      <td>1.0</td>\n",
       "      <td>0.0</td>\n",
       "      <td>0.0</td>\n",
       "      <td>0.0</td>\n",
       "      <td>0.0</td>\n",
       "      <td>0.0</td>\n",
       "      <td>1.224647e-16</td>\n",
       "      <td>-1.0</td>\n",
       "      <td>1.224647e-16</td>\n",
       "      <td>-1.0</td>\n",
       "      <td>0.354605</td>\n",
       "      <td>-0.935016</td>\n",
       "      <td>-0.128748</td>\n",
       "      <td>-0.991677</td>\n",
       "    </tr>\n",
       "    <tr>\n",
       "      <th>1111</th>\n",
       "      <td>1112</td>\n",
       "      <td>2015-06-07</td>\n",
       "      <td>11.066638</td>\n",
       "      <td>5</td>\n",
       "      <td>4</td>\n",
       "      <td>0</td>\n",
       "      <td>0</td>\n",
       "      <td>0.0</td>\n",
       "      <td>0.0</td>\n",
       "      <td>0.0</td>\n",
       "      <td>5.0</td>\n",
       "      <td>0</td>\n",
       "      <td>4</td>\n",
       "      <td>1880.0</td>\n",
       "      <td>111.0</td>\n",
       "      <td>4.0</td>\n",
       "      <td>2006.0</td>\n",
       "      <td>0.0</td>\n",
       "      <td>0.0</td>\n",
       "      <td>0.0</td>\n",
       "      <td>0.0</td>\n",
       "      <td>2015.0</td>\n",
       "      <td>2.0</td>\n",
       "      <td>6.0</td>\n",
       "      <td>23</td>\n",
       "      <td>0.0</td>\n",
       "      <td>0.0</td>\n",
       "      <td>1.0</td>\n",
       "      <td>0.0</td>\n",
       "      <td>0.0</td>\n",
       "      <td>1.0</td>\n",
       "      <td>0.0</td>\n",
       "      <td>0.0</td>\n",
       "      <td>0.0</td>\n",
       "      <td>0.0</td>\n",
       "      <td>0.0</td>\n",
       "      <td>0.0</td>\n",
       "      <td>0.0</td>\n",
       "      <td>1.0</td>\n",
       "      <td>0.0</td>\n",
       "      <td>0.0</td>\n",
       "      <td>0.0</td>\n",
       "      <td>0.0</td>\n",
       "      <td>0.0</td>\n",
       "      <td>1.224647e-16</td>\n",
       "      <td>-1.0</td>\n",
       "      <td>1.224647e-16</td>\n",
       "      <td>-1.0</td>\n",
       "      <td>0.354605</td>\n",
       "      <td>-0.935016</td>\n",
       "      <td>-0.128748</td>\n",
       "      <td>-0.991677</td>\n",
       "    </tr>\n",
       "    <tr>\n",
       "      <th>1114</th>\n",
       "      <td>1115</td>\n",
       "      <td>2015-06-07</td>\n",
       "      <td>10.719803</td>\n",
       "      <td>5</td>\n",
       "      <td>4</td>\n",
       "      <td>5</td>\n",
       "      <td>0</td>\n",
       "      <td>0.0</td>\n",
       "      <td>0.0</td>\n",
       "      <td>0.0</td>\n",
       "      <td>5.0</td>\n",
       "      <td>0</td>\n",
       "      <td>2</td>\n",
       "      <td>5350.0</td>\n",
       "      <td>14.0</td>\n",
       "      <td>4.0</td>\n",
       "      <td>2014.0</td>\n",
       "      <td>1.0</td>\n",
       "      <td>159.0</td>\n",
       "      <td>22.0</td>\n",
       "      <td>2012.0</td>\n",
       "      <td>2015.0</td>\n",
       "      <td>2.0</td>\n",
       "      <td>6.0</td>\n",
       "      <td>23</td>\n",
       "      <td>0.0</td>\n",
       "      <td>0.0</td>\n",
       "      <td>0.0</td>\n",
       "      <td>1.0</td>\n",
       "      <td>0.0</td>\n",
       "      <td>1.0</td>\n",
       "      <td>0.0</td>\n",
       "      <td>0.0</td>\n",
       "      <td>0.0</td>\n",
       "      <td>0.0</td>\n",
       "      <td>0.0</td>\n",
       "      <td>0.0</td>\n",
       "      <td>1.0</td>\n",
       "      <td>0.0</td>\n",
       "      <td>0.0</td>\n",
       "      <td>0.0</td>\n",
       "      <td>0.0</td>\n",
       "      <td>0.0</td>\n",
       "      <td>0.0</td>\n",
       "      <td>1.224647e-16</td>\n",
       "      <td>-1.0</td>\n",
       "      <td>1.224647e-16</td>\n",
       "      <td>-1.0</td>\n",
       "      <td>0.354605</td>\n",
       "      <td>-0.935016</td>\n",
       "      <td>-0.128748</td>\n",
       "      <td>-0.991677</td>\n",
       "    </tr>\n",
       "  </tbody>\n",
       "</table>\n",
       "<p>682 rows × 52 columns</p>\n",
       "</div>"
      ],
      "text/plain": [
       "      Filiale      Datum     Umsatz  Geöffnet  Promo  ist_Promo2  Schulferien  \\\n",
       "0           1 2015-06-07  10.188666         5      4           0            0   \n",
       "2           3 2015-06-07  10.735222         5      4           0            0   \n",
       "8           9 2015-06-07  10.807746         5      4           0            0   \n",
       "12         13 2015-06-07  10.295057         5      4           0            4   \n",
       "13         14 2015-06-07  10.403505         5      4           0            0   \n",
       "...       ...        ...        ...       ...    ...         ...          ...   \n",
       "1106     1107 2015-06-07  10.613148         5      4           0            4   \n",
       "1108     1109 2015-06-07  10.301928         5      4           0            4   \n",
       "1110     1111 2015-06-07  10.292078         5      4           0            0   \n",
       "1111     1112 2015-06-07  11.066638         5      4           0            0   \n",
       "1114     1115 2015-06-07  10.719803         5      4           5            0   \n",
       "\n",
       "      Ostern  Weihnachten  öffentl_Feiertag  regulärer_Tag  Sonntag  Gruppe  \\\n",
       "0        0.0          0.0               0.0            5.0        0       2   \n",
       "2        0.0          0.0               0.0            5.0        0       3   \n",
       "8        0.0          0.0               0.0            5.0        0       3   \n",
       "12       0.0          0.0               0.0            5.0        0       1   \n",
       "13       0.0          0.0               0.0            5.0        0       2   \n",
       "...      ...          ...               ...            ...      ...     ...   \n",
       "1106     0.0          0.0               0.0            5.0        0       2   \n",
       "1108     0.0          0.0               0.0            5.0        0       1   \n",
       "1110     0.0          0.0               0.0            5.0        0       2   \n",
       "1111     0.0          0.0               0.0            5.0        0       4   \n",
       "1114     0.0          0.0               0.0            5.0        0       2   \n",
       "\n",
       "      Wettbew_Distanz  Wettbew_seit_Monaten  Wettbew_offen_seit_Monat  \\\n",
       "0              1270.0                  82.0                       9.0   \n",
       "2             14130.0                 103.0                      12.0   \n",
       "8              2030.0                 180.0                       8.0   \n",
       "12              310.0                 146.0                       6.0   \n",
       "13             1300.0                  15.0                       3.0   \n",
       "...               ...                   ...                       ...   \n",
       "1106           1400.0                  36.0                       6.0   \n",
       "1108           3490.0                  50.0                       4.0   \n",
       "1110           1900.0                  12.0                       6.0   \n",
       "1111           1880.0                 111.0                       4.0   \n",
       "1114           5350.0                  14.0                       4.0   \n",
       "\n",
       "      Wettbew_offen_seit_Jahr  Promo2  Promo2_seit_Wochen  Promo2_seit_Woche  \\\n",
       "0                      2008.0     0.0                 0.0                0.0   \n",
       "2                      2006.0     1.0               219.0               14.0   \n",
       "8                      2000.0     0.0                 0.0                0.0   \n",
       "12                     2003.0     1.0               292.0               45.0   \n",
       "13                     2014.0     1.0               193.0               40.0   \n",
       "...                       ...     ...                 ...                ...   \n",
       "1106                   2012.0     1.0               272.0               13.0   \n",
       "1108                   2011.0     1.0               159.0               22.0   \n",
       "1110                   2014.0     1.0                97.0               31.0   \n",
       "1111                   2006.0     0.0                 0.0                0.0   \n",
       "1114                   2014.0     1.0               159.0               22.0   \n",
       "\n",
       "      Promo2_seit_Jahr    Jahr  Quartal  Monat  Kalenderwoche  Geschäftstyp_a  \\\n",
       "0                  0.0  2015.0      2.0    6.0             23             0.0   \n",
       "2               2011.0  2015.0      2.0    6.0             23             1.0   \n",
       "8                  0.0  2015.0      2.0    6.0             23             1.0   \n",
       "12              2009.0  2015.0      2.0    6.0             23             0.0   \n",
       "13              2011.0  2015.0      2.0    6.0             23             1.0   \n",
       "...                ...     ...      ...    ...            ...             ...   \n",
       "1106            2010.0  2015.0      2.0    6.0             23             1.0   \n",
       "1108            2012.0  2015.0      2.0    6.0             23             0.0   \n",
       "1110            2013.0  2015.0      2.0    6.0             23             1.0   \n",
       "1111               0.0  2015.0      2.0    6.0             23             0.0   \n",
       "1114            2012.0  2015.0      2.0    6.0             23             0.0   \n",
       "\n",
       "      Geschäftstyp_b  Geschäftstyp_c  Geschäftstyp_d  Sortiment_basic  \\\n",
       "0                0.0             1.0             0.0              1.0   \n",
       "2                0.0             0.0             0.0              1.0   \n",
       "8                0.0             0.0             0.0              0.0   \n",
       "12               0.0             0.0             1.0              1.0   \n",
       "13               0.0             0.0             0.0              1.0   \n",
       "...              ...             ...             ...              ...   \n",
       "1106             0.0             0.0             0.0              1.0   \n",
       "1108             0.0             1.0             0.0              1.0   \n",
       "1110             0.0             0.0             0.0              1.0   \n",
       "1111             0.0             1.0             0.0              0.0   \n",
       "1114             0.0             0.0             1.0              0.0   \n",
       "\n",
       "      Sortiment_extended  Sortiment_extra  Bundesland_Baden_Württemberg  \\\n",
       "0                    0.0              0.0                           0.0   \n",
       "2                    0.0              0.0                           0.0   \n",
       "8                    1.0              0.0                           0.0   \n",
       "12                   0.0              0.0                           0.0   \n",
       "13                   0.0              0.0                           0.0   \n",
       "...                  ...              ...                           ...   \n",
       "1106                 0.0              0.0                           0.0   \n",
       "1108                 0.0              0.0                           0.0   \n",
       "1110                 0.0              0.0                           0.0   \n",
       "1111                 1.0              0.0                           0.0   \n",
       "1114                 1.0              0.0                           0.0   \n",
       "\n",
       "      Bundesland_Bayern  Bundesland_Berlin  Bundesland_Bremen  \\\n",
       "0                   0.0                0.0                0.0   \n",
       "2                   0.0                0.0                0.0   \n",
       "8                   0.0                0.0                0.0   \n",
       "12                  1.0                0.0                0.0   \n",
       "13                  0.0                0.0                0.0   \n",
       "...                 ...                ...                ...   \n",
       "1106                1.0                0.0                0.0   \n",
       "1108                1.0                0.0                0.0   \n",
       "1110                0.0                0.0                0.0   \n",
       "1111                0.0                0.0                0.0   \n",
       "1114                0.0                0.0                0.0   \n",
       "\n",
       "      Bundesland_Hamburg  Bundesland_Hessen  Bundesland_NRW  \\\n",
       "0                    0.0                1.0             0.0   \n",
       "2                    0.0                0.0             1.0   \n",
       "8                    0.0                0.0             1.0   \n",
       "12                   0.0                0.0             0.0   \n",
       "13                   0.0                0.0             1.0   \n",
       "...                  ...                ...             ...   \n",
       "1106                 0.0                0.0             0.0   \n",
       "1108                 0.0                0.0             0.0   \n",
       "1110                 0.0                0.0             1.0   \n",
       "1111                 0.0                0.0             1.0   \n",
       "1114                 0.0                1.0             0.0   \n",
       "\n",
       "      Bundesland_Rheinland_Pfalz  Bundesland_Sachsen  \\\n",
       "0                            0.0                 0.0   \n",
       "2                            0.0                 0.0   \n",
       "8                            0.0                 0.0   \n",
       "12                           0.0                 0.0   \n",
       "13                           0.0                 0.0   \n",
       "...                          ...                 ...   \n",
       "1106                         0.0                 0.0   \n",
       "1108                         0.0                 0.0   \n",
       "1110                         0.0                 0.0   \n",
       "1111                         0.0                 0.0   \n",
       "1114                         0.0                 0.0   \n",
       "\n",
       "      Bundesland_Sachsen_Anhalt  Bundesland_Schleswig_Holstein  \\\n",
       "0                           0.0                            0.0   \n",
       "2                           0.0                            0.0   \n",
       "8                           0.0                            0.0   \n",
       "12                          0.0                            0.0   \n",
       "13                          0.0                            0.0   \n",
       "...                         ...                            ...   \n",
       "1106                        0.0                            0.0   \n",
       "1108                        0.0                            0.0   \n",
       "1110                        0.0                            0.0   \n",
       "1111                        0.0                            0.0   \n",
       "1114                        0.0                            0.0   \n",
       "\n",
       "      Bundesland_Thüringen   Quartal_sin  Quartal_cos     Monat_sin  \\\n",
       "0                      0.0  1.224647e-16         -1.0  1.224647e-16   \n",
       "2                      0.0  1.224647e-16         -1.0  1.224647e-16   \n",
       "8                      0.0  1.224647e-16         -1.0  1.224647e-16   \n",
       "12                     0.0  1.224647e-16         -1.0  1.224647e-16   \n",
       "13                     0.0  1.224647e-16         -1.0  1.224647e-16   \n",
       "...                    ...           ...          ...           ...   \n",
       "1106                   0.0  1.224647e-16         -1.0  1.224647e-16   \n",
       "1108                   0.0  1.224647e-16         -1.0  1.224647e-16   \n",
       "1110                   0.0  1.224647e-16         -1.0  1.224647e-16   \n",
       "1111                   0.0  1.224647e-16         -1.0  1.224647e-16   \n",
       "1114                   0.0  1.224647e-16         -1.0  1.224647e-16   \n",
       "\n",
       "      Monat_cos  Kalenderwoche_sin  Kalenderwoche_cos  Jahr_sin  Jahr_cos  \n",
       "0          -1.0           0.354605          -0.935016 -0.128748 -0.991677  \n",
       "2          -1.0           0.354605          -0.935016 -0.128748 -0.991677  \n",
       "8          -1.0           0.354605          -0.935016 -0.128748 -0.991677  \n",
       "12         -1.0           0.354605          -0.935016 -0.128748 -0.991677  \n",
       "13         -1.0           0.354605          -0.935016 -0.128748 -0.991677  \n",
       "...         ...                ...                ...       ...       ...  \n",
       "1106       -1.0           0.354605          -0.935016 -0.128748 -0.991677  \n",
       "1108       -1.0           0.354605          -0.935016 -0.128748 -0.991677  \n",
       "1110       -1.0           0.354605          -0.935016 -0.128748 -0.991677  \n",
       "1111       -1.0           0.354605          -0.935016 -0.128748 -0.991677  \n",
       "1114       -1.0           0.354605          -0.935016 -0.128748 -0.991677  \n",
       "\n",
       "[682 rows x 52 columns]"
      ]
     },
     "metadata": {},
     "output_type": "display_data"
    }
   ],
   "source": [
    "df_test[df_test.Promo == 4]"
   ]
  },
  {
   "cell_type": "markdown",
   "metadata": {},
   "source": [
    "## 5.2. <a id='toc5_2_'></a>Datenskelett testen [&#9650;](#toc0_)"
   ]
  },
  {
   "cell_type": "markdown",
   "metadata": {},
   "source": [
    "Zunächst den Transformer anpassen um auch df_constructed zu transformieren"
   ]
  },
  {
   "cell_type": "code",
   "execution_count": null,
   "metadata": {},
   "outputs": [
    {
     "name": "stdout",
     "output_type": "stream",
     "text": [
      "df_train_valid min         2013-01-06 00:00:00\n",
      "df_train_valid max         2015-05-31 00:00:00\n",
      "df_train_valid shape       (135780, 52)\n",
      "\n",
      "df_test min          2015-06-07 00:00:00\n",
      "df_test max          2015-08-02 00:00:00\n",
      "df_test shape        (10028, 52)\n",
      "\n",
      "df_constructed min   2015-06-07 00:00:00\n",
      "df_constructed max   2015-08-02 00:00:00\n",
      "df_constructed shape (10028, 12)\n"
     ]
    },
    {
     "data": {
      "text/html": [
       "<div>\n",
       "<style scoped>\n",
       "    .dataframe tbody tr th:only-of-type {\n",
       "        vertical-align: middle;\n",
       "    }\n",
       "\n",
       "    .dataframe tbody tr th {\n",
       "        vertical-align: top;\n",
       "    }\n",
       "\n",
       "    .dataframe thead th {\n",
       "        text-align: right;\n",
       "    }\n",
       "</style>\n",
       "<table border=\"1\" class=\"dataframe\">\n",
       "  <thead>\n",
       "    <tr style=\"text-align: right;\">\n",
       "      <th></th>\n",
       "      <th>MAE</th>\n",
       "      <th>R2</th>\n",
       "      <th>RMSE</th>\n",
       "    </tr>\n",
       "    <tr>\n",
       "      <th>Vergleich</th>\n",
       "      <th></th>\n",
       "      <th></th>\n",
       "      <th></th>\n",
       "    </tr>\n",
       "  </thead>\n",
       "  <tbody>\n",
       "    <tr>\n",
       "      <th>y_test/y_pred_test</th>\n",
       "      <td>0.097486</td>\n",
       "      <td>0.875685</td>\n",
       "      <td>0.126043</td>\n",
       "    </tr>\n",
       "    <tr>\n",
       "      <th>y_test/y_pred_constr</th>\n",
       "      <td>0.097891</td>\n",
       "      <td>0.873776</td>\n",
       "      <td>0.127006</td>\n",
       "    </tr>\n",
       "  </tbody>\n",
       "</table>\n",
       "</div>"
      ],
      "text/plain": [
       "                           MAE        R2      RMSE\n",
       "Vergleich                                         \n",
       "y_test/y_pred_test    0.097486  0.875685  0.126043\n",
       "y_test/y_pred_constr  0.097891  0.873776  0.127006"
      ]
     },
     "metadata": {},
     "output_type": "display_data"
    }
   ],
   "source": [
    "print(f\"df_train_valid min         {df_train_valid.Datum.min()}\")\n",
    "print(f\"df_train_valid max         {df_train_valid.Datum.max()}\")\n",
    "print(f\"df_train_valid shape       {df_train_valid.shape}\")\n",
    "print(\"\")\n",
    "print(f\"df_test min          {df_test.Datum.min()}\")\n",
    "print(f\"df_test max          {df_test.Datum.max()}\")\n",
    "print(f\"df_test shape        {df_test.shape}\")\n",
    "print(\"\")\n",
    "print(f\"df_constructed min   {df_constructed.Datum.min()}\")\n",
    "print(f\"df_constructed max   {df_constructed.Datum.max()}\")\n",
    "print(f\"df_constructed shape {df_constructed.shape}\")\n",
    "\n",
    "df_test.sort_values([\"Datum\", \"Filiale\"], inplace=True)\n",
    "df_constructed.sort_values([\"Datum\", \"Filiale\"], inplace=True)\n",
    "# Train Daten\n",
    "X_train = df_train_valid[selected_features]\n",
    "y_train = df_train_valid['Umsatz']\n",
    "# Test Daten\n",
    "X_test = df_test[selected_features]\n",
    "y_test = df_test['Umsatz']\n",
    "# Konstruierte Daten\n",
    "X_test_constr = df_constructed[selected_features]\n",
    "\n",
    "# Modell fitten und prediction\n",
    "rf = RandomForestRegressor(n_estimators=51, max_features=\"sqrt\", max_depth=16, min_samples_split=7, min_samples_leaf=4, bootstrap=True).fit(X_train, y_train)\n",
    "\n",
    "# Vorhersage Testdaten\n",
    "y_pred_test = rf.predict(X_test)\n",
    "# Metriken berechnen\n",
    "mae, r2, rmse = metriken(y_test, y_pred_test)\n",
    "y_pred_test_results = pd.DataFrame({\"Vergleich\": [\"y_test/y_pred_test\"], \"MAE\": [mae], \"R2\": [r2], \"RMSE\": [rmse]})\n",
    "\n",
    "# Vorhersage imputierte Daten\n",
    "y_pred_constr = rf.predict(X_test_constr)\n",
    "mae, r2, rmse = metriken(y_test, y_pred_constr)\n",
    "y_pred_constr_results = pd.DataFrame({\"Vergleich\": [\"y_test/y_pred_constr\"], \"MAE\": [mae], \"R2\": [r2], \"RMSE\": [rmse]})\n",
    "# Ergebnisse speichern\n",
    "results_imputation = pd.concat([y_pred_test_results, y_pred_constr_results])\n",
    "results_imputation.set_index(\"Vergleich\")"
   ]
  },
  {
   "cell_type": "markdown",
   "metadata": {},
   "source": [
    "Das Modell sagt den Umsatz basierend auf einem konstruierten Dataframe sehr gut voraus."
   ]
  },
  {
   "cell_type": "markdown",
   "metadata": {},
   "source": [
    "# 6. <a id='toc6_'></a>Finales Modell und Zukunft [&#9650;](#toc0_)"
   ]
  },
  {
   "cell_type": "markdown",
   "metadata": {},
   "source": [
    "## 6.1. <a id='toc6_1_'></a>Datenskelett aufbauen (zukunft) [&#9650;](#toc0_)"
   ]
  },
  {
   "cell_type": "markdown",
   "metadata": {},
   "source": [
    "Zunächst wird ein Dataframe mit den selected features für die Zukunft erstellt (2015-08.03 bis 2015-09-27). "
   ]
  },
  {
   "cell_type": "code",
   "execution_count": null,
   "metadata": {},
   "outputs": [
    {
     "name": "stdout",
     "output_type": "stream",
     "text": [
      "skelett min    2015-06-07 00:00:00\n",
      "skelett max    2015-08-02 00:00:00\n",
      "skelett shape  (10028, 3)\n"
     ]
    }
   ],
   "source": [
    "df_constructed = df_train_valid.copy().sort_values([\"Datum\", \"Filiale\"]).reset_index(drop=True)\n",
    "df_constructed[\"isFuture\"] = False\n",
    "\n",
    "# Zu erstellender Datenbereich\n",
    "timestamp = pd.Timestamp(df[\"Datum\"].sort_values().iloc[-1])\n",
    "split_point = timestamp - pd.Timedelta(days=(7*8))\n",
    "# Datum für Skelett erzeugen\n",
    "skelett_datum = pd.date_range(start=split_point, end=timestamp, freq=\"W\")\n",
    "skelett_datum = pd.DataFrame({\"Datum\": skelett_datum})\n",
    "skelett_datum[\"isFuture\"] = True\n",
    "skelett_datum[\"isFuture\"] = skelett_datum[\"isFuture\"].astype(bool)\n",
    "\n",
    "# Filiale in skelett einfügen\n",
    "df_list = []\n",
    "# Für jeden Filiale in future extra 8 wochen erzeugen\n",
    "for Filiale in df_constructed['Filiale'].unique():\n",
    "    # Füge die Filiale-Information zu future_df hinzu\n",
    "    skelett_filiale = skelett_datum.copy()\n",
    "    skelett_filiale['Filiale'] = Filiale\n",
    "    # Füge den DataFrame zur Liste hinzu\n",
    "    df_list.append(skelett_filiale)\n",
    "\n",
    "# Skelett Filiale und Datum vereinigen    \n",
    "skelett = pd.concat(df_list)\n",
    "skelett = skelett.sort_values([\"Datum\", \"Filiale\"])\n",
    "\n",
    "# zusätzliche Spalten i, selbst konstruierten dataframe finden \n",
    "extra_rows = skelett[~skelett.set_index(['Datum', 'Filiale']).index.isin(df_test.set_index(['Datum', 'Filiale']).index)]\n",
    "# Entferne die zusätzlichen Zeilen\n",
    "skelett = skelett[~skelett[['Datum', 'Filiale']].apply(tuple, axis=1).isin(extra_rows[['Datum', 'Filiale']].apply(tuple, axis=1))]\n",
    "\n",
    "print(f\"skelett min    {skelett.Datum.min()}\")\n",
    "print(f\"skelett max    {skelett.Datum.max()}\")\n",
    "print(f\"skelett shape  {skelett.shape}\")\n",
    "\n",
    "# Skelett an original df anfügen mit Feiertag bereits aufgespalten\n",
    "df_constructed = pd.concat([df_constructed, skelett]).sort_values([\"Filiale\", \"Datum\"]).reset_index(drop=True)"
   ]
  },
  {
   "cell_type": "code",
   "execution_count": null,
   "metadata": {},
   "outputs": [
    {
     "name": "stdout",
     "output_type": "stream",
     "text": [
      "skelett min    2015-08-09 00:00:00\n",
      "skelett max    2015-09-27 00:00:00\n",
      "skelett shape  (8920, 3)\n"
     ]
    }
   ],
   "source": [
    "df_constructed = df.copy().sort_values([\"Datum\", \"Filiale\"]).reset_index(drop=True)\n",
    "df_constructed[\"isFuture\"] = False\n",
    "\n",
    "# Zu erstellender Datenbereich\n",
    "timestamp = pd.Timestamp(df[\"Datum\"].sort_values().iloc[-1]) + pd.Timedelta(days=(1))\n",
    "end_point = timestamp + pd.Timedelta(days=(7*8))\n",
    "# Datum für Skelett erzeugen\n",
    "skelett_datum = pd.date_range(start=timestamp, end=end_point, freq=\"W\")\n",
    "skelett_datum = pd.DataFrame({\"Datum\": skelett_datum})\n",
    "skelett_datum[\"isFuture\"] = True\n",
    "skelett_datum[\"isFuture\"] = skelett_datum[\"isFuture\"].astype(bool)\n",
    "\n",
    "# Filiale in skelett einfügen\n",
    "df_list = []\n",
    "# Für jeden Filiale in future extra 8 wochen erzeugen\n",
    "for Filiale in df_constructed['Filiale'].unique():\n",
    "    # Füge die Filiale-Information zu future_df hinzu\n",
    "    skelett_filiale = skelett_datum.copy()\n",
    "    skelett_filiale['Filiale'] = Filiale\n",
    "    # Füge den DataFrame zur Liste hinzu\n",
    "    df_list.append(skelett_filiale)\n",
    "\n",
    "# Skelett Filiale und Datum vereinigen    \n",
    "skelett = pd.concat(df_list)\n",
    "skelett = skelett.sort_values([\"Datum\", \"Filiale\"])\n",
    "\n",
    "print(f\"skelett min    {skelett.Datum.min()}\")\n",
    "print(f\"skelett max    {skelett.Datum.max()}\")\n",
    "print(f\"skelett shape  {skelett.shape}\")\n",
    "\n",
    "# Skelett an original df anfügen mit Feiertag bereits aufgespalten\n",
    "df_constructed = pd.concat([df_constructed, skelett]).sort_values([\"Filiale\", \"Datum\"]).reset_index(drop=True)"
   ]
  },
  {
   "cell_type": "code",
   "execution_count": null,
   "metadata": {},
   "outputs": [
    {
     "data": {
      "text/html": [
       "<div>\n",
       "<style scoped>\n",
       "    .dataframe tbody tr th:only-of-type {\n",
       "        vertical-align: middle;\n",
       "    }\n",
       "\n",
       "    .dataframe tbody tr th {\n",
       "        vertical-align: top;\n",
       "    }\n",
       "\n",
       "    .dataframe thead th {\n",
       "        text-align: right;\n",
       "    }\n",
       "</style>\n",
       "<table border=\"1\" class=\"dataframe\">\n",
       "  <thead>\n",
       "    <tr style=\"text-align: right;\">\n",
       "      <th></th>\n",
       "      <th>Datum</th>\n",
       "      <th>isFuture</th>\n",
       "      <th>Filiale</th>\n",
       "    </tr>\n",
       "  </thead>\n",
       "  <tbody>\n",
       "    <tr>\n",
       "      <th>0</th>\n",
       "      <td>2015-08-09</td>\n",
       "      <td>True</td>\n",
       "      <td>1081</td>\n",
       "    </tr>\n",
       "    <tr>\n",
       "      <th>1</th>\n",
       "      <td>2015-08-16</td>\n",
       "      <td>True</td>\n",
       "      <td>1081</td>\n",
       "    </tr>\n",
       "    <tr>\n",
       "      <th>2</th>\n",
       "      <td>2015-08-23</td>\n",
       "      <td>True</td>\n",
       "      <td>1081</td>\n",
       "    </tr>\n",
       "    <tr>\n",
       "      <th>3</th>\n",
       "      <td>2015-08-30</td>\n",
       "      <td>True</td>\n",
       "      <td>1081</td>\n",
       "    </tr>\n",
       "    <tr>\n",
       "      <th>4</th>\n",
       "      <td>2015-09-06</td>\n",
       "      <td>True</td>\n",
       "      <td>1081</td>\n",
       "    </tr>\n",
       "    <tr>\n",
       "      <th>5</th>\n",
       "      <td>2015-09-13</td>\n",
       "      <td>True</td>\n",
       "      <td>1081</td>\n",
       "    </tr>\n",
       "    <tr>\n",
       "      <th>6</th>\n",
       "      <td>2015-09-20</td>\n",
       "      <td>True</td>\n",
       "      <td>1081</td>\n",
       "    </tr>\n",
       "    <tr>\n",
       "      <th>7</th>\n",
       "      <td>2015-09-27</td>\n",
       "      <td>True</td>\n",
       "      <td>1081</td>\n",
       "    </tr>\n",
       "  </tbody>\n",
       "</table>\n",
       "</div>"
      ],
      "text/plain": [
       "       Datum  isFuture  Filiale\n",
       "0 2015-08-09      True     1081\n",
       "1 2015-08-16      True     1081\n",
       "2 2015-08-23      True     1081\n",
       "3 2015-08-30      True     1081\n",
       "4 2015-09-06      True     1081\n",
       "5 2015-09-13      True     1081\n",
       "6 2015-09-20      True     1081\n",
       "7 2015-09-27      True     1081"
      ]
     },
     "metadata": {},
     "output_type": "display_data"
    }
   ],
   "source": [
    "skelett_filiale"
   ]
  },
  {
   "cell_type": "markdown",
   "metadata": {},
   "source": [
    "Nachdem das Gerüst mit den Daten und Filialen nun steht, wird wieder imputiert"
   ]
  },
  {
   "cell_type": "code",
   "execution_count": null,
   "metadata": {},
   "outputs": [
    {
     "name": "stdout",
     "output_type": "stream",
     "text": [
      "df_constructed shape: (8920, 12)\n"
     ]
    },
    {
     "data": {
      "text/html": [
       "<div>\n",
       "<style scoped>\n",
       "    .dataframe tbody tr th:only-of-type {\n",
       "        vertical-align: middle;\n",
       "    }\n",
       "\n",
       "    .dataframe tbody tr th {\n",
       "        vertical-align: top;\n",
       "    }\n",
       "\n",
       "    .dataframe thead th {\n",
       "        text-align: right;\n",
       "    }\n",
       "</style>\n",
       "<table border=\"1\" class=\"dataframe\">\n",
       "  <thead>\n",
       "    <tr style=\"text-align: right;\">\n",
       "      <th></th>\n",
       "      <th>Gruppe</th>\n",
       "      <th>Promo</th>\n",
       "      <th>Wettbew_Distanz</th>\n",
       "      <th>Filiale</th>\n",
       "      <th>Kalenderwoche</th>\n",
       "      <th>Wettbew_seit_Monaten</th>\n",
       "      <th>Wettbew_offen_seit_Monat</th>\n",
       "      <th>Promo2_seit_Wochen</th>\n",
       "      <th>Promo2_seit_Woche</th>\n",
       "      <th>Wettbew_offen_seit_Jahr</th>\n",
       "      <th>Kalenderwoche_cos</th>\n",
       "      <th>Datum</th>\n",
       "    </tr>\n",
       "  </thead>\n",
       "  <tbody>\n",
       "    <tr>\n",
       "      <th>135</th>\n",
       "      <td>2.0</td>\n",
       "      <td>0.0</td>\n",
       "      <td>1270.0</td>\n",
       "      <td>1</td>\n",
       "      <td>32</td>\n",
       "      <td>84</td>\n",
       "      <td>9.0</td>\n",
       "      <td>0</td>\n",
       "      <td>0.0</td>\n",
       "      <td>2008.0</td>\n",
       "      <td>-0.748511</td>\n",
       "      <td>2015-08-09</td>\n",
       "    </tr>\n",
       "    <tr>\n",
       "      <th>136</th>\n",
       "      <td>2.0</td>\n",
       "      <td>5.0</td>\n",
       "      <td>1270.0</td>\n",
       "      <td>1</td>\n",
       "      <td>33</td>\n",
       "      <td>84</td>\n",
       "      <td>9.0</td>\n",
       "      <td>0</td>\n",
       "      <td>0.0</td>\n",
       "      <td>2008.0</td>\n",
       "      <td>-0.663123</td>\n",
       "      <td>2015-08-16</td>\n",
       "    </tr>\n",
       "    <tr>\n",
       "      <th>137</th>\n",
       "      <td>2.0</td>\n",
       "      <td>0.0</td>\n",
       "      <td>1270.0</td>\n",
       "      <td>1</td>\n",
       "      <td>34</td>\n",
       "      <td>84</td>\n",
       "      <td>9.0</td>\n",
       "      <td>0</td>\n",
       "      <td>0.0</td>\n",
       "      <td>2008.0</td>\n",
       "      <td>-0.568065</td>\n",
       "      <td>2015-08-23</td>\n",
       "    </tr>\n",
       "    <tr>\n",
       "      <th>138</th>\n",
       "      <td>2.0</td>\n",
       "      <td>5.0</td>\n",
       "      <td>1270.0</td>\n",
       "      <td>1</td>\n",
       "      <td>35</td>\n",
       "      <td>85</td>\n",
       "      <td>9.0</td>\n",
       "      <td>0</td>\n",
       "      <td>0.0</td>\n",
       "      <td>2008.0</td>\n",
       "      <td>-0.464723</td>\n",
       "      <td>2015-08-30</td>\n",
       "    </tr>\n",
       "    <tr>\n",
       "      <th>139</th>\n",
       "      <td>2.0</td>\n",
       "      <td>0.0</td>\n",
       "      <td>1270.0</td>\n",
       "      <td>1</td>\n",
       "      <td>36</td>\n",
       "      <td>85</td>\n",
       "      <td>9.0</td>\n",
       "      <td>0</td>\n",
       "      <td>0.0</td>\n",
       "      <td>2008.0</td>\n",
       "      <td>-0.354605</td>\n",
       "      <td>2015-09-06</td>\n",
       "    </tr>\n",
       "  </tbody>\n",
       "</table>\n",
       "</div>"
      ],
      "text/plain": [
       "     Gruppe  Promo  Wettbew_Distanz  Filiale  Kalenderwoche  \\\n",
       "135     2.0    0.0           1270.0        1             32   \n",
       "136     2.0    5.0           1270.0        1             33   \n",
       "137     2.0    0.0           1270.0        1             34   \n",
       "138     2.0    5.0           1270.0        1             35   \n",
       "139     2.0    0.0           1270.0        1             36   \n",
       "\n",
       "     Wettbew_seit_Monaten  Wettbew_offen_seit_Monat  Promo2_seit_Wochen  \\\n",
       "135                    84                       9.0                   0   \n",
       "136                    84                       9.0                   0   \n",
       "137                    84                       9.0                   0   \n",
       "138                    85                       9.0                   0   \n",
       "139                    85                       9.0                   0   \n",
       "\n",
       "     Promo2_seit_Woche  Wettbew_offen_seit_Jahr  Kalenderwoche_cos      Datum  \n",
       "135                0.0                   2008.0          -0.748511 2015-08-09  \n",
       "136                0.0                   2008.0          -0.663123 2015-08-16  \n",
       "137                0.0                   2008.0          -0.568065 2015-08-23  \n",
       "138                0.0                   2008.0          -0.464723 2015-08-30  \n",
       "139                0.0                   2008.0          -0.354605 2015-09-06  "
      ]
     },
     "metadata": {},
     "output_type": "display_data"
    }
   ],
   "source": [
    "# Imputieren\n",
    "# ffill methode\n",
    "# Wettbew_Distanz\n",
    "for feature in to_ffill:\n",
    "    for i in df_constructed.Filiale.unique():\n",
    "        df_constructed.loc[df_constructed['Filiale'] == i, feature] = \\\n",
    "            df_constructed.loc[df_constructed['Filiale'] == i, feature].ffill()\n",
    "\n",
    "# Kalenderwoche\n",
    "df_constructed['Kalenderwoche'] = df_constructed['Kalenderwoche'].fillna(df_constructed.Datum.dt.isocalendar().week)\n",
    "df_constructed['Kalenderwoche_cos'] = df_constructed['Kalenderwoche'].apply(lambda x: np.cos(x*(2*np.pi/52)))\n",
    "\n",
    "# Wettbew_offen_seit_Monaten\n",
    "df_constructed.Wettbew_offen_seit_Jahr = df_constructed.Wettbew_offen_seit_Jahr.astype(\"float64\")\n",
    "df_constructed.Wettbew_offen_seit_Monat = df_constructed.Wettbew_offen_seit_Monat.astype(\"float64\")\n",
    "df_constructed['Wettbew_seit'] = df_constructed.apply(lambda x: datetime(year = int(x['Wettbew_offen_seit_Jahr']),\n",
    "                                                                         month = int(x['Wettbew_offen_seit_Monat']),\n",
    "                                                                         day = 1),\n",
    "                                                      axis = 1)\n",
    "df_constructed['Wettbew_seit_Monaten'] = ((df_constructed['Datum'] - df_constructed['Wettbew_seit']) / 30).apply(lambda x: x.days).astype(int)\n",
    "\n",
    "# Promo2_seit_Wochen\n",
    "# Promo2_seit_Jahr\n",
    "for i in df_constructed.Filiale.unique():\n",
    "    df_constructed.loc[df_constructed['Filiale'] == i, \"Promo2_seit_Jahr\"] = \\\n",
    "        df_constructed.loc[df_constructed['Filiale'] == i, \"Promo2_seit_Jahr\"].ffill()        \n",
    "df_constructed['Promo2_seit'] = np.where(df_constructed['Promo2_seit_Jahr'] != 0,\n",
    "                                   (df_constructed['Promo2_seit_Jahr']).astype(int).astype(str) + '-' + (df_constructed['Promo2_seit_Woche']).astype(int).astype(str),\n",
    "                                   \"2020-01\")\n",
    "df_constructed['Promo2_seit'] = df_constructed['Promo2_seit'].apply(lambda x: datetime.strptime(x + '-1', '%Y-%W-%w') - timedelta(days=7))\n",
    "# Berechne Promo2_seit_Wochen --> Promo2_seit vom aktuellen Datum subtrahieren\n",
    "df_constructed['Promo2_seit_Wochen'] = np.where(df_constructed['Promo2_seit'] != \"2019-12-30\",\n",
    "                                          round((df_constructed['Datum'] - df_constructed['Promo2_seit']) / np.timedelta64(1, \"W\")).astype(int),\n",
    "                                          0)\n",
    "\n",
    "\n",
    "# Promo --> Fehler von 6.91 %\n",
    "while df_constructed[\"Promo\"].isna().any():\n",
    "    for i in df_constructed.Filiale.unique():\n",
    "        df_constructed[\"Promo\"] = df_constructed[\"Promo\"].fillna(df_constructed[\"Promo\"].shift(2))\n",
    "\n",
    "df_constructed = df_constructed.loc[df_constructed[\"isFuture\"] == True]\n",
    "df_constructed = df_constructed[selected_features + [\"Datum\"]]\n",
    "print(f\"df_constructed shape: {df_constructed.shape}\")\n",
    "df_constructed.head()"
   ]
  },
  {
   "cell_type": "code",
   "execution_count": null,
   "metadata": {},
   "outputs": [
    {
     "data": {
      "text/plain": [
       "Gruppe                      0\n",
       "Promo                       0\n",
       "Wettbew_Distanz             0\n",
       "Filiale                     0\n",
       "Kalenderwoche               0\n",
       "Wettbew_seit_Monaten        0\n",
       "Wettbew_offen_seit_Monat    0\n",
       "Promo2_seit_Wochen          0\n",
       "Promo2_seit_Woche           0\n",
       "Wettbew_offen_seit_Jahr     0\n",
       "Kalenderwoche_cos           0\n",
       "Datum                       0\n",
       "dtype: int64"
      ]
     },
     "metadata": {},
     "output_type": "display_data"
    }
   ],
   "source": [
    "df_constructed.isna().sum()"
   ]
  },
  {
   "cell_type": "markdown",
   "metadata": {},
   "source": [
    "## 6.2. <a id='toc6_2_'></a>Zukunft vorhersagen [&#9650;](#toc0_)"
   ]
  },
  {
   "cell_type": "markdown",
   "metadata": {},
   "source": [
    "Transformations-Funktion wird erneut angepasst"
   ]
  },
  {
   "cell_type": "code",
   "execution_count": null,
   "metadata": {},
   "outputs": [],
   "source": [
    "df.sort_values([\"Datum\", \"Filiale\"], inplace=True)\n",
    "df_constructed.sort_values([\"Datum\", \"Filiale\"], inplace=True)\n",
    "df_constructed.reset_index(inplace=True, drop=True)\n",
    "\n",
    "# Train Daten\n",
    "X_train = df[selected_features]\n",
    "y_train = df['Umsatz']\n",
    "# Test Daten\n",
    "X_test = df_constructed[selected_features]\n",
    "\n",
    "# Modell fitten und prediction\n",
    "rf = RandomForestRegressor(n_estimators=51, max_features=\"sqrt\", max_depth=16, min_samples_split=7, min_samples_leaf=4, bootstrap=True).fit(X_train, y_train)\n",
    "y_pred = rf.predict(X_test)"
   ]
  },
  {
   "cell_type": "code",
   "execution_count": null,
   "metadata": {},
   "outputs": [
    {
     "data": {
      "application/vnd.plotly.v1+json": {
       "config": {
        "plotlyServerURL": "https://plot.ly"
       },
       "data": [
        {
         "hovertemplate": "Datum=%{x}<br>Gesamtumsatz [€]=%{y}<extra></extra>",
         "legendgroup": "",
         "line": {
          "color": "#636efa",
          "dash": "solid"
         },
         "marker": {
          "symbol": "circle"
         },
         "mode": "lines",
         "name": "",
         "orientation": "v",
         "showlegend": false,
         "type": "scatter",
         "x": [
          "2015-08-09T00:00:00",
          "2015-08-16T00:00:00",
          "2015-08-23T00:00:00",
          "2015-08-30T00:00:00",
          "2015-09-06T00:00:00",
          "2015-09-13T00:00:00",
          "2015-09-20T00:00:00",
          "2015-09-27T00:00:00"
         ],
         "xaxis": "x",
         "y": [
          37441183,
          50204977,
          37286865,
          50035651,
          37221886,
          50026601,
          37154694,
          49617733
         ],
         "yaxis": "y"
        }
       ],
       "layout": {
        "legend": {
         "tracegroupgap": 0
        },
        "template": {
         "data": {
          "bar": [
           {
            "error_x": {
             "color": "#2a3f5f"
            },
            "error_y": {
             "color": "#2a3f5f"
            },
            "marker": {
             "line": {
              "color": "#E5ECF6",
              "width": 0.5
             },
             "pattern": {
              "fillmode": "overlay",
              "size": 10,
              "solidity": 0.2
             }
            },
            "type": "bar"
           }
          ],
          "barpolar": [
           {
            "marker": {
             "line": {
              "color": "#E5ECF6",
              "width": 0.5
             },
             "pattern": {
              "fillmode": "overlay",
              "size": 10,
              "solidity": 0.2
             }
            },
            "type": "barpolar"
           }
          ],
          "carpet": [
           {
            "aaxis": {
             "endlinecolor": "#2a3f5f",
             "gridcolor": "white",
             "linecolor": "white",
             "minorgridcolor": "white",
             "startlinecolor": "#2a3f5f"
            },
            "baxis": {
             "endlinecolor": "#2a3f5f",
             "gridcolor": "white",
             "linecolor": "white",
             "minorgridcolor": "white",
             "startlinecolor": "#2a3f5f"
            },
            "type": "carpet"
           }
          ],
          "choropleth": [
           {
            "colorbar": {
             "outlinewidth": 0,
             "ticks": ""
            },
            "type": "choropleth"
           }
          ],
          "contour": [
           {
            "colorbar": {
             "outlinewidth": 0,
             "ticks": ""
            },
            "colorscale": [
             [
              0,
              "#0d0887"
             ],
             [
              0.1111111111111111,
              "#46039f"
             ],
             [
              0.2222222222222222,
              "#7201a8"
             ],
             [
              0.3333333333333333,
              "#9c179e"
             ],
             [
              0.4444444444444444,
              "#bd3786"
             ],
             [
              0.5555555555555556,
              "#d8576b"
             ],
             [
              0.6666666666666666,
              "#ed7953"
             ],
             [
              0.7777777777777778,
              "#fb9f3a"
             ],
             [
              0.8888888888888888,
              "#fdca26"
             ],
             [
              1,
              "#f0f921"
             ]
            ],
            "type": "contour"
           }
          ],
          "contourcarpet": [
           {
            "colorbar": {
             "outlinewidth": 0,
             "ticks": ""
            },
            "type": "contourcarpet"
           }
          ],
          "heatmap": [
           {
            "colorbar": {
             "outlinewidth": 0,
             "ticks": ""
            },
            "colorscale": [
             [
              0,
              "#0d0887"
             ],
             [
              0.1111111111111111,
              "#46039f"
             ],
             [
              0.2222222222222222,
              "#7201a8"
             ],
             [
              0.3333333333333333,
              "#9c179e"
             ],
             [
              0.4444444444444444,
              "#bd3786"
             ],
             [
              0.5555555555555556,
              "#d8576b"
             ],
             [
              0.6666666666666666,
              "#ed7953"
             ],
             [
              0.7777777777777778,
              "#fb9f3a"
             ],
             [
              0.8888888888888888,
              "#fdca26"
             ],
             [
              1,
              "#f0f921"
             ]
            ],
            "type": "heatmap"
           }
          ],
          "heatmapgl": [
           {
            "colorbar": {
             "outlinewidth": 0,
             "ticks": ""
            },
            "colorscale": [
             [
              0,
              "#0d0887"
             ],
             [
              0.1111111111111111,
              "#46039f"
             ],
             [
              0.2222222222222222,
              "#7201a8"
             ],
             [
              0.3333333333333333,
              "#9c179e"
             ],
             [
              0.4444444444444444,
              "#bd3786"
             ],
             [
              0.5555555555555556,
              "#d8576b"
             ],
             [
              0.6666666666666666,
              "#ed7953"
             ],
             [
              0.7777777777777778,
              "#fb9f3a"
             ],
             [
              0.8888888888888888,
              "#fdca26"
             ],
             [
              1,
              "#f0f921"
             ]
            ],
            "type": "heatmapgl"
           }
          ],
          "histogram": [
           {
            "marker": {
             "pattern": {
              "fillmode": "overlay",
              "size": 10,
              "solidity": 0.2
             }
            },
            "type": "histogram"
           }
          ],
          "histogram2d": [
           {
            "colorbar": {
             "outlinewidth": 0,
             "ticks": ""
            },
            "colorscale": [
             [
              0,
              "#0d0887"
             ],
             [
              0.1111111111111111,
              "#46039f"
             ],
             [
              0.2222222222222222,
              "#7201a8"
             ],
             [
              0.3333333333333333,
              "#9c179e"
             ],
             [
              0.4444444444444444,
              "#bd3786"
             ],
             [
              0.5555555555555556,
              "#d8576b"
             ],
             [
              0.6666666666666666,
              "#ed7953"
             ],
             [
              0.7777777777777778,
              "#fb9f3a"
             ],
             [
              0.8888888888888888,
              "#fdca26"
             ],
             [
              1,
              "#f0f921"
             ]
            ],
            "type": "histogram2d"
           }
          ],
          "histogram2dcontour": [
           {
            "colorbar": {
             "outlinewidth": 0,
             "ticks": ""
            },
            "colorscale": [
             [
              0,
              "#0d0887"
             ],
             [
              0.1111111111111111,
              "#46039f"
             ],
             [
              0.2222222222222222,
              "#7201a8"
             ],
             [
              0.3333333333333333,
              "#9c179e"
             ],
             [
              0.4444444444444444,
              "#bd3786"
             ],
             [
              0.5555555555555556,
              "#d8576b"
             ],
             [
              0.6666666666666666,
              "#ed7953"
             ],
             [
              0.7777777777777778,
              "#fb9f3a"
             ],
             [
              0.8888888888888888,
              "#fdca26"
             ],
             [
              1,
              "#f0f921"
             ]
            ],
            "type": "histogram2dcontour"
           }
          ],
          "mesh3d": [
           {
            "colorbar": {
             "outlinewidth": 0,
             "ticks": ""
            },
            "type": "mesh3d"
           }
          ],
          "parcoords": [
           {
            "line": {
             "colorbar": {
              "outlinewidth": 0,
              "ticks": ""
             }
            },
            "type": "parcoords"
           }
          ],
          "pie": [
           {
            "automargin": true,
            "type": "pie"
           }
          ],
          "scatter": [
           {
            "fillpattern": {
             "fillmode": "overlay",
             "size": 10,
             "solidity": 0.2
            },
            "type": "scatter"
           }
          ],
          "scatter3d": [
           {
            "line": {
             "colorbar": {
              "outlinewidth": 0,
              "ticks": ""
             }
            },
            "marker": {
             "colorbar": {
              "outlinewidth": 0,
              "ticks": ""
             }
            },
            "type": "scatter3d"
           }
          ],
          "scattercarpet": [
           {
            "marker": {
             "colorbar": {
              "outlinewidth": 0,
              "ticks": ""
             }
            },
            "type": "scattercarpet"
           }
          ],
          "scattergeo": [
           {
            "marker": {
             "colorbar": {
              "outlinewidth": 0,
              "ticks": ""
             }
            },
            "type": "scattergeo"
           }
          ],
          "scattergl": [
           {
            "marker": {
             "colorbar": {
              "outlinewidth": 0,
              "ticks": ""
             }
            },
            "type": "scattergl"
           }
          ],
          "scattermapbox": [
           {
            "marker": {
             "colorbar": {
              "outlinewidth": 0,
              "ticks": ""
             }
            },
            "type": "scattermapbox"
           }
          ],
          "scatterpolar": [
           {
            "marker": {
             "colorbar": {
              "outlinewidth": 0,
              "ticks": ""
             }
            },
            "type": "scatterpolar"
           }
          ],
          "scatterpolargl": [
           {
            "marker": {
             "colorbar": {
              "outlinewidth": 0,
              "ticks": ""
             }
            },
            "type": "scatterpolargl"
           }
          ],
          "scatterternary": [
           {
            "marker": {
             "colorbar": {
              "outlinewidth": 0,
              "ticks": ""
             }
            },
            "type": "scatterternary"
           }
          ],
          "surface": [
           {
            "colorbar": {
             "outlinewidth": 0,
             "ticks": ""
            },
            "colorscale": [
             [
              0,
              "#0d0887"
             ],
             [
              0.1111111111111111,
              "#46039f"
             ],
             [
              0.2222222222222222,
              "#7201a8"
             ],
             [
              0.3333333333333333,
              "#9c179e"
             ],
             [
              0.4444444444444444,
              "#bd3786"
             ],
             [
              0.5555555555555556,
              "#d8576b"
             ],
             [
              0.6666666666666666,
              "#ed7953"
             ],
             [
              0.7777777777777778,
              "#fb9f3a"
             ],
             [
              0.8888888888888888,
              "#fdca26"
             ],
             [
              1,
              "#f0f921"
             ]
            ],
            "type": "surface"
           }
          ],
          "table": [
           {
            "cells": {
             "fill": {
              "color": "#EBF0F8"
             },
             "line": {
              "color": "white"
             }
            },
            "header": {
             "fill": {
              "color": "#C8D4E3"
             },
             "line": {
              "color": "white"
             }
            },
            "type": "table"
           }
          ]
         },
         "layout": {
          "annotationdefaults": {
           "arrowcolor": "#2a3f5f",
           "arrowhead": 0,
           "arrowwidth": 1
          },
          "autotypenumbers": "strict",
          "coloraxis": {
           "colorbar": {
            "outlinewidth": 0,
            "ticks": ""
           }
          },
          "colorscale": {
           "diverging": [
            [
             0,
             "#8e0152"
            ],
            [
             0.1,
             "#c51b7d"
            ],
            [
             0.2,
             "#de77ae"
            ],
            [
             0.3,
             "#f1b6da"
            ],
            [
             0.4,
             "#fde0ef"
            ],
            [
             0.5,
             "#f7f7f7"
            ],
            [
             0.6,
             "#e6f5d0"
            ],
            [
             0.7,
             "#b8e186"
            ],
            [
             0.8,
             "#7fbc41"
            ],
            [
             0.9,
             "#4d9221"
            ],
            [
             1,
             "#276419"
            ]
           ],
           "sequential": [
            [
             0,
             "#0d0887"
            ],
            [
             0.1111111111111111,
             "#46039f"
            ],
            [
             0.2222222222222222,
             "#7201a8"
            ],
            [
             0.3333333333333333,
             "#9c179e"
            ],
            [
             0.4444444444444444,
             "#bd3786"
            ],
            [
             0.5555555555555556,
             "#d8576b"
            ],
            [
             0.6666666666666666,
             "#ed7953"
            ],
            [
             0.7777777777777778,
             "#fb9f3a"
            ],
            [
             0.8888888888888888,
             "#fdca26"
            ],
            [
             1,
             "#f0f921"
            ]
           ],
           "sequentialminus": [
            [
             0,
             "#0d0887"
            ],
            [
             0.1111111111111111,
             "#46039f"
            ],
            [
             0.2222222222222222,
             "#7201a8"
            ],
            [
             0.3333333333333333,
             "#9c179e"
            ],
            [
             0.4444444444444444,
             "#bd3786"
            ],
            [
             0.5555555555555556,
             "#d8576b"
            ],
            [
             0.6666666666666666,
             "#ed7953"
            ],
            [
             0.7777777777777778,
             "#fb9f3a"
            ],
            [
             0.8888888888888888,
             "#fdca26"
            ],
            [
             1,
             "#f0f921"
            ]
           ]
          },
          "colorway": [
           "#636efa",
           "#EF553B",
           "#00cc96",
           "#ab63fa",
           "#FFA15A",
           "#19d3f3",
           "#FF6692",
           "#B6E880",
           "#FF97FF",
           "#FECB52"
          ],
          "font": {
           "color": "#2a3f5f"
          },
          "geo": {
           "bgcolor": "white",
           "lakecolor": "white",
           "landcolor": "#E5ECF6",
           "showlakes": true,
           "showland": true,
           "subunitcolor": "white"
          },
          "hoverlabel": {
           "align": "left"
          },
          "hovermode": "closest",
          "mapbox": {
           "style": "light"
          },
          "paper_bgcolor": "white",
          "plot_bgcolor": "#E5ECF6",
          "polar": {
           "angularaxis": {
            "gridcolor": "white",
            "linecolor": "white",
            "ticks": ""
           },
           "bgcolor": "#E5ECF6",
           "radialaxis": {
            "gridcolor": "white",
            "linecolor": "white",
            "ticks": ""
           }
          },
          "scene": {
           "xaxis": {
            "backgroundcolor": "#E5ECF6",
            "gridcolor": "white",
            "gridwidth": 2,
            "linecolor": "white",
            "showbackground": true,
            "ticks": "",
            "zerolinecolor": "white"
           },
           "yaxis": {
            "backgroundcolor": "#E5ECF6",
            "gridcolor": "white",
            "gridwidth": 2,
            "linecolor": "white",
            "showbackground": true,
            "ticks": "",
            "zerolinecolor": "white"
           },
           "zaxis": {
            "backgroundcolor": "#E5ECF6",
            "gridcolor": "white",
            "gridwidth": 2,
            "linecolor": "white",
            "showbackground": true,
            "ticks": "",
            "zerolinecolor": "white"
           }
          },
          "shapedefaults": {
           "line": {
            "color": "#2a3f5f"
           }
          },
          "ternary": {
           "aaxis": {
            "gridcolor": "white",
            "linecolor": "white",
            "ticks": ""
           },
           "baxis": {
            "gridcolor": "white",
            "linecolor": "white",
            "ticks": ""
           },
           "bgcolor": "#E5ECF6",
           "caxis": {
            "gridcolor": "white",
            "linecolor": "white",
            "ticks": ""
           }
          },
          "title": {
           "x": 0.05
          },
          "xaxis": {
           "automargin": true,
           "gridcolor": "white",
           "linecolor": "white",
           "ticks": "",
           "title": {
            "standoff": 15
           },
           "zerolinecolor": "white",
           "zerolinewidth": 2
          },
          "yaxis": {
           "automargin": true,
           "gridcolor": "white",
           "linecolor": "white",
           "ticks": "",
           "title": {
            "standoff": 15
           },
           "zerolinecolor": "white",
           "zerolinewidth": 2
          }
         }
        },
        "title": {
         "text": "Umsatz Vorhersage für die nächsten 8 Wochen 09.08. - 27.09.2015"
        },
        "xaxis": {
         "anchor": "y",
         "domain": [
          0,
          1
         ],
         "title": {
          "text": "Datum"
         }
        },
        "yaxis": {
         "anchor": "x",
         "domain": [
          0,
          1
         ],
         "title": {
          "text": "Gesamtumsatz [€]"
         }
        }
       }
      }
     },
     "metadata": {},
     "output_type": "display_data"
    }
   ],
   "source": [
    "df_vorhersage = df_constructed[[\"Datum\", \"Filiale\"]].copy()\n",
    "df_vorhersage.sort_values([\"Datum\", \"Filiale\"], inplace=True)\n",
    "\n",
    "# Rücktransformation der logarithmierten Werte\n",
    "y_past = np.exp(y_train).astype(int).copy()\n",
    "y_future = np.exp(y_pred).astype(int).copy()\n",
    "y_rücktransformiert_df = pd.DataFrame({\"Umsatz_pred\": y_future})\n",
    "\n",
    "df_vorhersage = pd.concat([df_vorhersage, y_rücktransformiert_df], axis=1)\n",
    "df_vorhersage = df_vorhersage.groupby([\"Datum\"])[\"Umsatz_pred\"].sum().reset_index()\n",
    "# Plotly Express Plot\n",
    "fig = px.line(df_vorhersage, x='Datum', y=\"Umsatz_pred\",\n",
    "              title='Umsatz Vorhersage für die nächsten 8 Wochen 09.08. - 27.09.2015', labels={\"Umsatz_pred\": \"Gesamtumsatz [€]\"})\n",
    "fig.show()"
   ]
  },
  {
   "cell_type": "markdown",
   "metadata": {},
   "source": [
    "für den Zeitraum 2015-08-02 bis 2015-09-20 wird 348.597.521 € vorhergesagt."
   ]
  },
  {
   "cell_type": "code",
   "execution_count": null,
   "metadata": {},
   "outputs": [
    {
     "data": {
      "text/plain": [
       "348989590"
      ]
     },
     "metadata": {},
     "output_type": "display_data"
    }
   ],
   "source": [
    "df_vorhersage.Umsatz_pred.sum()"
   ]
  },
  {
   "cell_type": "code",
   "execution_count": null,
   "metadata": {},
   "outputs": [
    {
     "data": {
      "text/plain": [
       "['..\\\\MachineLearning_Modell\\\\random_forest_model.joblib']"
      ]
     },
     "metadata": {},
     "output_type": "display_data"
    }
   ],
   "source": [
    "# train unf future speichern\n",
    "df_weekly.to_parquet(\"..\\\\Save_files\\\\df_data.parquet\", engine='pyarrow')\n",
    "df.to_parquet(\"..\\\\Save_files\\\\df_transformed_data.parquet\", engine='pyarrow')\n",
    "df_constructed.to_parquet(\"..\\\\Save_files\\\\df_future_construct.parquet\", engine='pyarrow')\n",
    "# Modell speichern\n",
    "joblib.dump(rf,\"..\\\\MachineLearning_Modell\\\\random_forest_model.joblib\", compress=3)\n",
    "\n",
    "\n"
   ]
  }
 ],
 "metadata": {
  "kernelspec": {
   "display_name": "Python 3",
   "language": "python",
   "name": "python3"
  },
  "language_info": {
   "codemirror_mode": {
    "name": "ipython",
    "version": 3
   },
   "file_extension": ".py",
   "mimetype": "text/x-python",
   "name": "python",
   "nbconvert_exporter": "python",
   "pygments_lexer": "ipython3",
   "version": "3.11.9"
  }
 },
 "nbformat": 4,
 "nbformat_minor": 2
}
